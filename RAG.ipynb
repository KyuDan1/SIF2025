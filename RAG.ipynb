{
 "cells": [
  {
   "cell_type": "code",
   "execution_count": 3,
   "metadata": {},
   "outputs": [
    {
     "name": "stdout",
     "output_type": "stream",
     "text": [
      "^C\n",
      "\u001b[31mERROR: Operation cancelled by user\u001b[0m\u001b[31m\n",
      "\u001b[0m\n",
      "\u001b[1m[\u001b[0m\u001b[34;49mnotice\u001b[0m\u001b[1;39;49m]\u001b[0m\u001b[39;49m A new release of pip is available: \u001b[0m\u001b[31;49m24.0\u001b[0m\u001b[39;49m -> \u001b[0m\u001b[32;49m24.3.1\u001b[0m\n",
      "\u001b[1m[\u001b[0m\u001b[34;49mnotice\u001b[0m\u001b[1;39;49m]\u001b[0m\u001b[39;49m To update, run: \u001b[0m\u001b[32;49mpip install --upgrade pip\u001b[0m\n"
     ]
    }
   ],
   "source": [
    "# 설치하는 데 2~3분 정도의 시간이 소요됩니다. 설치를 완료하고 세션을 다시 시작하세요.\n",
    "!pip install -q nltk langchain langchain-community langchain-core unstructured sentence_transformers faiss-gpu openai selenium pypdf pacmap plotly_express nbformat rank_bm25 kiwipiepy bitsandbytes accelerate"
   ]
  },
  {
   "cell_type": "code",
   "execution_count": 1,
   "metadata": {},
   "outputs": [
    {
     "name": "stdout",
     "output_type": "stream",
     "text": [
      "Collecting gdown\n",
      "  Using cached gdown-5.2.0-py3-none-any.whl.metadata (5.8 kB)\n",
      "Requirement already satisfied: beautifulsoup4 in /home/kyudan/anaconda3/envs/RAG/lib/python3.10/site-packages (from gdown) (4.12.3)\n",
      "Requirement already satisfied: filelock in /home/kyudan/.local/lib/python3.10/site-packages (from gdown) (3.15.4)\n",
      "Requirement already satisfied: requests[socks] in /home/kyudan/.local/lib/python3.10/site-packages (from gdown) (2.32.3)\n",
      "Requirement already satisfied: tqdm in /home/kyudan/.local/lib/python3.10/site-packages (from gdown) (4.66.4)\n",
      "Requirement already satisfied: soupsieve>1.2 in /home/kyudan/anaconda3/envs/RAG/lib/python3.10/site-packages (from beautifulsoup4->gdown) (2.6)\n",
      "Requirement already satisfied: charset-normalizer<4,>=2 in /home/kyudan/.local/lib/python3.10/site-packages (from requests[socks]->gdown) (3.3.2)\n",
      "Requirement already satisfied: idna<4,>=2.5 in /home/kyudan/.local/lib/python3.10/site-packages (from requests[socks]->gdown) (3.7)\n",
      "Requirement already satisfied: urllib3<3,>=1.21.1 in /home/kyudan/.local/lib/python3.10/site-packages (from requests[socks]->gdown) (2.2.2)\n",
      "Requirement already satisfied: certifi>=2017.4.17 in /home/kyudan/.local/lib/python3.10/site-packages (from requests[socks]->gdown) (2024.7.4)\n",
      "Requirement already satisfied: PySocks!=1.5.7,>=1.5.6 in /home/kyudan/anaconda3/envs/RAG/lib/python3.10/site-packages (from requests[socks]->gdown) (1.7.1)\n",
      "Using cached gdown-5.2.0-py3-none-any.whl (18 kB)\n",
      "Installing collected packages: gdown\n",
      "Successfully installed gdown-5.2.0\n",
      "\n",
      "\u001b[1m[\u001b[0m\u001b[34;49mnotice\u001b[0m\u001b[1;39;49m]\u001b[0m\u001b[39;49m A new release of pip is available: \u001b[0m\u001b[31;49m24.0\u001b[0m\u001b[39;49m -> \u001b[0m\u001b[32;49m24.3.1\u001b[0m\n",
      "\u001b[1m[\u001b[0m\u001b[34;49mnotice\u001b[0m\u001b[1;39;49m]\u001b[0m\u001b[39;49m To update, run: \u001b[0m\u001b[32;49mpip install --upgrade pip\u001b[0m\n"
     ]
    }
   ],
   "source": [
    "!pip install gdown\n"
   ]
  },
  {
   "cell_type": "code",
   "execution_count": 52,
   "metadata": {},
   "outputs": [
    {
     "name": "stdout",
     "output_type": "stream",
     "text": [
      "1 페이지 처리 완료. 현재까지 수집된 게시글 수: 10\n",
      "더 이상 'tr.noti' 게시글이 없습니다. (page=2)\n",
      "\n",
      "총 크롤링된 게시글 수: 10\n",
      "================================================================================\n",
      "제목: 차세대반도체 페스티벌 POLARIS SIF 2025 개최 안내\n",
      "날짜: \n",
      "URL : https://www.disu.ac.kr/community/notice?md=v&bbsidx=7997\n",
      "본문(일부) : ...\n",
      "================================================================================\n",
      "제목: '시스템반도체입문' K-MOOC 수강신청 기간 및 개강 안내\n",
      "날짜: \n",
      "URL : https://www.disu.ac.kr/community/notice?md=v&bbsidx=7976\n",
      "본문(일부) : ...\n",
      "================================================================================\n",
      "제목: [중앙대학교] 2024학년도 동계 계절학기 차세대반도체학과 학점교류 개설교과목 및 학점교류 안내\n",
      "날짜: \n",
      "URL : https://www.disu.ac.kr/community/notice?md=v&bbsidx=7955\n",
      "본문(일부) : ...\n"
     ]
    }
   ],
   "source": [
    "import requests\n",
    "from bs4 import BeautifulSoup\n",
    "import time\n",
    "import re\n",
    "\n",
    "def crawl_disu_notice():\n",
    "    \"\"\"\n",
    "    - https://www.disu.ac.kr/community/notice?cidx=44&page=1\n",
    "    - 목록 페이지의 <caption>게시물 목록</caption> 아래 <tr class=\"noti\">를 순회하여 게시글 정보를 수집\n",
    "    \"\"\"\n",
    "    base_url = \"https://www.disu.ac.kr\"\n",
    "    list_url = \"https://www.disu.ac.kr/community/notice\"\n",
    "    \n",
    "    all_posts = []\n",
    "    page = 1\n",
    "    \n",
    "    while True:\n",
    "        params = {\n",
    "            'cidx': 44,\n",
    "            'page': page\n",
    "        }\n",
    "        response = requests.get(list_url, params=params)\n",
    "        if not response.ok:\n",
    "            print(f\"페이지 {page} 요청 실패. 상태코드: {response.status_code}\")\n",
    "            break\n",
    "        \n",
    "        soup = BeautifulSoup(response.text, 'html.parser')\n",
    "        \n",
    "        # 1) <caption>게시물 목록</caption>을 포함하는 table 찾기\n",
    "        table = None\n",
    "        for t in soup.find_all('table'):\n",
    "            caption_tag = t.find('caption')\n",
    "            if caption_tag and '게시물 목록' in caption_tag.get_text():\n",
    "                table = t\n",
    "                break\n",
    "        \n",
    "        if not table:\n",
    "            print(f\"목록 테이블을 찾지 못했습니다. (page={page})\")\n",
    "            break\n",
    "        \n",
    "        tbody = table.find('tbody')\n",
    "        if not tbody:\n",
    "            print(f\"테이블에 <tbody>가 없습니다. (page={page})\")\n",
    "            break\n",
    "        \n",
    "        # 2) 공지사항 목록 <tr class=\"noti\">\n",
    "        rows = tbody.find_all('tr', class_='noti')\n",
    "        if not rows:\n",
    "            print(f\"더 이상 'tr.noti' 게시글이 없습니다. (page={page})\")\n",
    "            break\n",
    "        \n",
    "        for row in rows:\n",
    "            # <td class=\"title noti-tit\"> 안에 <a href=\"...\"> 링크\n",
    "            title_td = row.find('td', class_='title noti-tit')\n",
    "            if not title_td:\n",
    "                continue\n",
    "            \n",
    "            link_tag = title_td.find('a')\n",
    "            if not link_tag:\n",
    "                continue\n",
    "            \n",
    "            title = link_tag.get_text(strip=True)\n",
    "            href = link_tag.get('href')  # \"?md=v&bbsidx=7997\" 형태\n",
    "            \n",
    "            if not href:\n",
    "                continue\n",
    "            \n",
    "            # 상세 페이지 URL 구성\n",
    "            # 실제 링크 구조에 따라 조합이 달라질 수 있음\n",
    "            # 예) \"/community/notice?md=v&bbsidx=7997\"인 경우:\n",
    "            if href.startswith('http'):\n",
    "                post_url = href\n",
    "            elif href.startswith('/'):\n",
    "                post_url = base_url + href\n",
    "            else:\n",
    "                # 파라미터만 붙는 형태(\"?md=v&bbsidx=7997\")라면:\n",
    "                post_url = base_url + \"/community/notice\" + href\n",
    "            \n",
    "            # 날짜나 기타 정보가 필요하면 추가적으로 다른 <td>에서 추출\n",
    "            # 예: 작성일이 <td class=\"date\">2024.01.01</td> 형태라면\n",
    "            date_td = row.find('td', class_='date')\n",
    "            date_str = date_td.get_text(strip=True) if date_td else \"\"\n",
    "            \n",
    "            # 상세 페이지 본문 크롤링\n",
    "            content_text = crawl_post_detail(post_url)\n",
    "            \n",
    "            post_data = {\n",
    "                'title': title,\n",
    "                'date': date_str,\n",
    "                'url': post_url,\n",
    "                'content': content_text\n",
    "            }\n",
    "            all_posts.append(post_data)\n",
    "        \n",
    "        print(f\"{page} 페이지 처리 완료. 현재까지 수집된 게시글 수: {len(all_posts)}\")\n",
    "        \n",
    "        page += 1\n",
    "        # 서버 부하 방지를 위해 잠시 대기\n",
    "        time.sleep(1)\n",
    "    \n",
    "    return all_posts\n",
    "\n",
    "def crawl_post_detail(url):\n",
    "    \"\"\"\n",
    "    상세 페이지에서 본문을 추출하는 예시 함수.\n",
    "    실제 HTML 구조(예: <div class=\"bbs_view\"> 등)를 확인해 적절한 선택자를 사용해야 함.\n",
    "    \"\"\"\n",
    "    response = requests.get(url)\n",
    "    if not response.ok:\n",
    "        print(f\"상세 페이지 요청 실패: {url}\")\n",
    "        return \"\"\n",
    "    \n",
    "    soup = BeautifulSoup(response.text, 'html.parser')\n",
    "    \n",
    "    # <div class=\"bbs_view\"> 또는 <div class=\"view_contents\"> 등 본문 영역 파악\n",
    "    content_div = soup.find('div', class_='bbs_view')\n",
    "    if not content_div:\n",
    "        content_div = soup.find('div', class_='view_contents')\n",
    "    if not content_div:\n",
    "        return \"\"\n",
    "    \n",
    "    # 텍스트만 추출 + 불필요한 공백/줄바꿈 정리\n",
    "    text = content_div.get_text(separator=\"\\n\", strip=True)\n",
    "    text = re.sub(r'\\s+', ' ', text)\n",
    "    \n",
    "    return text\n",
    "\n",
    "if __name__ == \"__main__\":\n",
    "    posts = crawl_disu_notice()\n",
    "    print(f\"\\n총 크롤링된 게시글 수: {len(posts)}\")\n",
    "    for p in posts[:3]:\n",
    "        print(\"=\"*80)\n",
    "        print(f\"제목: {p['title']}\")\n",
    "        print(f\"날짜: {p['date']}\")\n",
    "        print(f\"URL : {p['url']}\")\n",
    "        print(f\"본문(일부) : {p['content'][:100]}...\")\n"
   ]
  },
  {
   "cell_type": "code",
   "execution_count": 53,
   "metadata": {},
   "outputs": [
    {
     "data": {
      "text/plain": [
       "[{'title': '차세대반도체 페스티벌 POLARIS SIF 2025 개최 안내',\n",
       "  'date': '',\n",
       "  'url': 'https://www.disu.ac.kr/community/notice?md=v&bbsidx=7997',\n",
       "  'content': ''},\n",
       " {'title': \"'시스템반도체입문' K-MOOC 수강신청 기간 및 개강 안내\",\n",
       "  'date': '',\n",
       "  'url': 'https://www.disu.ac.kr/community/notice?md=v&bbsidx=7976',\n",
       "  'content': ''},\n",
       " {'title': '[중앙대학교] 2024학년도 동계 계절학기 차세대반도체학과 학점교류 개설교과목 및 학점교류 안내',\n",
       "  'date': '',\n",
       "  'url': 'https://www.disu.ac.kr/community/notice?md=v&bbsidx=7955',\n",
       "  'content': ''},\n",
       " {'title': \"'SoC구조및설계' K-MOOC 수강신청 기간 및 개강 안내\",\n",
       "  'date': '',\n",
       "  'url': 'https://www.disu.ac.kr/community/notice?md=v&bbsidx=7907',\n",
       "  'content': ''},\n",
       " {'title': '[상시신청] 마이크로디그리 인증서 발급 절차 방식 변경 안내 (7.29~ 현재 신청가능)',\n",
       "  'date': '',\n",
       "  'url': 'https://www.disu.ac.kr/community/notice?md=v&bbsidx=7755',\n",
       "  'content': ''},\n",
       " {'title': '[FAQ] 중앙대학교 차세대반도체학과 자주 묻는 질문 [24.08.08 업데이트]',\n",
       "  'date': '',\n",
       "  'url': 'https://www.disu.ac.kr/community/notice?md=v&bbsidx=7515',\n",
       "  'content': ''},\n",
       " {'title': '[FAQ] 학점교류 취소 신청 방법 안내(상시신청 X)',\n",
       "  'date': '',\n",
       "  'url': 'https://www.disu.ac.kr/community/notice?md=v&bbsidx=7507',\n",
       "  'content': ''},\n",
       " {'title': '[FAQ] 중앙대학교 -> 타대학 학점교류 신청 시 수강신청 가능학점 안내',\n",
       "  'date': '',\n",
       "  'url': 'https://www.disu.ac.kr/community/notice?md=v&bbsidx=7502',\n",
       "  'content': ''},\n",
       " {'title': '[상시신청] 이수구분 변경 신청 안내',\n",
       "  'date': '',\n",
       "  'url': 'https://www.disu.ac.kr/community/notice?md=v&bbsidx=7449',\n",
       "  'content': ''},\n",
       " {'title': '[FAQ]중앙대학교 추가학기 예정자 학점 교류 관련',\n",
       "  'date': '',\n",
       "  'url': 'https://www.disu.ac.kr/community/notice?md=v&bbsidx=7247',\n",
       "  'content': ''}]"
      ]
     },
     "execution_count": 53,
     "metadata": {},
     "output_type": "execute_result"
    }
   ],
   "source": [
    "posts"
   ]
  },
  {
   "cell_type": "markdown",
   "metadata": {},
   "source": [
    "차세대반도체학과 사이트 html 사이트, 반도체이야기 사이트 등.. 한국어 온라인."
   ]
  },
  {
   "cell_type": "code",
   "execution_count": 14,
   "metadata": {},
   "outputs": [
    {
     "name": "stderr",
     "output_type": "stream",
     "text": [
      "Downloading...\n",
      "From: https://drive.google.com/uc?id=11A_vNUXVt5gq4KSJjn-Lq00c1FxyUVAY\n",
      "To: /home/elicer/SIF2025/AI.pdf\n",
      "100%|██████████| 17.6M/17.6M [00:01<00:00, 14.7MB/s]\n"
     ]
    },
    {
     "data": {
      "text/plain": [
       "'AI.pdf'"
      ]
     },
     "execution_count": 14,
     "metadata": {},
     "output_type": "execute_result"
    }
   ],
   "source": [
    "import gdown\n",
    "#https://drive.google.com/file/d/11A_vNUXVt5gq4KSJjn-Lq00c1FxyUVAY/view?usp=sharing\n",
    "url = '11A_vNUXVt5gq4KSJjn-Lq00c1FxyUVAY'\n",
    "output = 'AI.pdf'\n",
    "gdown.download(id=url, output=output, quiet=False)"
   ]
  },
  {
   "cell_type": "code",
   "execution_count": 31,
   "metadata": {},
   "outputs": [
    {
     "name": "stderr",
     "output_type": "stream",
     "text": [
      "huggingface/tokenizers: The current process just got forked, after parallelism has already been used. Disabling parallelism to avoid deadlocks...\n",
      "To disable this warning, you can either:\n",
      "\t- Avoid using `tokenizers` before the fork if possible\n",
      "\t- Explicitly set the environment variable TOKENIZERS_PARALLELISM=(true | false)\n"
     ]
    },
    {
     "name": "stdout",
     "output_type": "stream",
     "text": [
      "\n",
      "\u001b[1m[\u001b[0m\u001b[34;49mnotice\u001b[0m\u001b[1;39;49m]\u001b[0m\u001b[39;49m A new release of pip is available: \u001b[0m\u001b[31;49m24.0\u001b[0m\u001b[39;49m -> \u001b[0m\u001b[32;49m24.3.1\u001b[0m\n",
      "\u001b[1m[\u001b[0m\u001b[34;49mnotice\u001b[0m\u001b[1;39;49m]\u001b[0m\u001b[39;49m To update, run: \u001b[0m\u001b[32;49mpip install --upgrade pip\u001b[0m\n",
      "Note: you may need to restart the kernel to use updated packages.\n"
     ]
    }
   ],
   "source": [
    "%pip install -qU langchain_community beautifulsoup4"
   ]
  },
  {
   "cell_type": "code",
   "execution_count": null,
   "metadata": {},
   "outputs": [
    {
     "name": "stderr",
     "output_type": "stream",
     "text": [
      "[nltk_data] Downloading package punkt to /home/kyudan/nltk_data...\n",
      "[nltk_data]   Package punkt is already up-to-date!\n",
      "[nltk_data] Downloading package averaged_perceptron_tagger to\n",
      "[nltk_data]     /home/kyudan/nltk_data...\n",
      "[nltk_data]   Package averaged_perceptron_tagger is already up-to-\n",
      "[nltk_data]       date!\n"
     ]
    }
   ],
   "source": [
    "from langchain_community.document_loaders import UnstructuredURLLoader\n",
    "\n",
    "import nltk\n",
    "\n",
    "nltk.download(\"punkt\")\n",
    "nltk.download(\"averaged_perceptron_tagger\")\n",
    "\n",
    "\n",
    "urls = [\n",
    "    \"https://www.disu.ac.kr/academic/program\",\n",
    "    \"https://news.samsungsemiconductor.com/kr/behind-the-chip-%eb%b0%98%eb%8f%84%ec%b2%b4-%ea%b7%b8-%ec%84%b1%ec%9e%a5%ec%9d%98-%ea%b8%b0%eb%a1%9d-%ea%b3%bc%ea%b1%b0-%ed%98%84%ec%9e%ac-%ea%b7%b8%eb%a6%ac%ea%b3%a0-%eb%af%b8%eb%9e%98/\"\n",
    "\n",
    "]\n",
    "loader = UnstructuredURLLoader(urls=urls)\n",
    "docs = loader.load()"
   ]
  },
  {
   "cell_type": "code",
   "execution_count": 38,
   "metadata": {},
   "outputs": [
    {
     "data": {
      "text/plain": [
       "[Document(metadata={'source': 'https://www.disu.ac.kr/academic/program'}, page_content='혁신융합대학\\n\\n혁신융합대학이란?\\n\\n인사말\\n\\n7대목표\\n\\n인재상\\n\\nFAQ\\n\\n참여대학/조직도\\n\\n오시는 길\\n\\n학위학사 안내\\n\\n학위제도\\n\\n개설교과목\\n\\n학사일정\\n\\n성과확산센터\\n\\n소개\\n\\nPOLAR explorer\\n\\nPOLAR expert\\n\\nPOLAR W-square\\n\\nPOLAR edu\\n\\n경진대회\\n\\nPOLARIS LOC\\n\\nPOLARIS LOS\\n\\n경진대회\\n\\nTCAT\\n\\nSIF 2025\\n\\n소개\\n\\n지난 SIF 보기\\n\\n게시판\\n\\n공지사항\\n\\nNews\\n\\n행사\\n\\nQ&A\\n\\nPOLARIS TMI\\n\\nPOLAR GATE\\n\\nPOLARIS 학사학위안내\\n\\n학위제도\\n\\n학위학사 안내\\n\\n학위제도\\n\\n실무 인재\\n\\n현장중심형 교육을 통한 실무형 인재\\n\\n초급 전문대생 및 일반인 반도체 입문(마이크로디그리)(9학점)\\n\\n융합 인재\\n\\n본 소속 전공 외 반도체 분야의 지식을 겸비한 융합형 이공계 비전공 인재\\n\\n초급 중급 고급 이공계, 비이공계 학생 및 일반인 이공계 및 신기술분야 초급과정 이수 비이공계 학생 * 이에 준하는 수준의 학생 참여 가능 신기술분야 초급과정을 이수한 학생 * 이에 준하는 수준의 학생 참여 가능 반도체 초급 (마이크로디그리)(9학점) 반도체 중급(분야별 마이크로디그리)(9학점) 연계전공(42학점 이상) 부전공(21학점 이상) 융합전공(42학점 이상)\\n\\n통합 인재\\n\\n반도체와 연관된 업무를 원활히 수행 할 수 있는 인문/사회계 인재\\n\\n초급 비이공계 학생 및 일반인 반도체 입문(마이크로디그리)(9학점)\\n\\n전문 인재\\n\\n산업체 현장의 문제를 스스로 해결하는 능력과 창의력을 보유한 리더형의 반도체 전문가\\n\\n고급 전문 신기술분야 초급과정을 이수한 학생 * 이에 준하는 수준의 학생 참여 가능 차세대 반도체 표준 교과과정과 해당 학과 교과과정이 10개 이상 유사 과목을 갖는 전자계열 전공 학생 복수전공(39학점 이상) 심화전공(18학점 이상) 반도체 고급(분야별 마이크로디그리)(9학점) 학석사연계(18학점 이상)\\n\\n혁신융합대학\\n\\n혁신융합대학이란?\\n\\n인사말\\n\\n7대목표\\n\\n인재상\\n\\nFAQ\\n\\n참여대학/조직도\\n\\n오시는 길\\n\\n학위학사 안내\\n\\n학위제도\\n\\n개설교과목\\n\\n학사일정\\n\\n성과확산센터\\n\\n소개\\n\\nPOLAR explorer\\n\\nPOLAR expert\\n\\nPOLAR W-square\\n\\nPOLAR edu\\n\\n경진대회\\n\\nPOLARIS LOC\\n\\nPOLARIS LOS\\n\\n경진대회\\n\\nTCAT\\n\\nSIF 2025\\n\\n소개\\n\\n지난 SIF 보기\\n\\n게시판\\n\\n공지사항\\n\\nNews\\n\\n행사\\n\\nQ&A\\n\\nPOLARIS TMI\\n\\nPOLAR GATE\\n\\n차세대반도체 첨단분야 혁신융합대학 사업단\\n\\n서울대학교 혁신융합대학 사업단I서울특별시 관악구 관악로 1, 300동 610호ITEL : 02-880-5825, 5824\\n\\n강원대학교 혁신융합대학 사업단I강원도 춘천시 강원대학길 1, 아산관 310호ITEL : 033-250-7694\\n\\n대구대학교 혁신융합대학 사업단I경상북도 경산시 진량읍 대구대로 201, 교수학습지원관 1102호ITEL : 053-850-6703\\n\\n숭실대학교 혁신융합대학 사업단I서울특별시 동작구 상도로 369, 창신관 204호ITEL : 02-829-8225\\n\\n조선이공대학교 혁신융합대학 사업단I광주 동구 필문대로 309-1, 본부동 4층 0401-1호ITEL : 062-230-8490\\n\\n중앙대학교 혁신융합대학 사업단I서울특별시 동작구 흑석로 84, 207관 105호ITEL : 02-881-7301\\n\\n포항공과대학교 혁신융합대학 사업단I경상북도 포항시 남구 청암로 77, 공학 2동 413호ITEL : 054-279-5074\\n\\n서울대학교 혁신융합대학 사업단ITEL : 02-880-5825, 5824 서울특별시 관악구 관악로 1, 300동 610호\\n\\n강원대학교 혁신융합대학 사업단ITEL : 033-250-7694 강원도 춘천시 강원대학길 1, 아산관 310호\\n\\n대구대학교 혁신융합대학 사업단ITEL : 053-850-6703 경상북도 경산시 진량읍 대구대로 201, 교수학습지원관 1102호\\n\\n숭실대학교 혁신융합대학 사업단ITEL : 02-829-8225 서울특별시 동작구 상도로 369, 창신관 204호\\n\\n조선이공대학교 혁신융합대학 사업단ITEL : 062-230-8490 광주 동구 필문대로 309-1, 본부동 4층 0401-1호\\n\\n중앙대학교 혁신융합대학 사업단ITEL : 02-881-7301 서울특별시 동작구 흑석로 84, 207관 105호\\n\\n포항공과대학교 혁신융합대학 사업단ITEL : 054-279-5074 경상북도 포항시 남구 청암로 77, 공학 2동 413호\\n\\nCopyright (c) POLARIS All rights reserved.'),\n",
       " Document(metadata={'source': 'https://news.samsungsemiconductor.com/kr/behind-the-chip-%eb%b0%98%eb%8f%84%ec%b2%b4-%ea%b7%b8-%ec%84%b1%ec%9e%a5%ec%9d%98-%ea%b8%b0%eb%a1%9d-%ea%b3%bc%ea%b1%b0-%ed%98%84%ec%9e%ac-%ea%b7%b8%eb%a6%ac%ea%b3%a0-%eb%af%b8%eb%9e%98/'}, page_content=\"본문 바로가기\\n\\n삼성반도체이야기는 더 이상 Internet Explorer를 지원하지 않습니다. 최적의 환경을 위해 다른 웹브라우저 사용을 권장합니다.\\n\\nENG\\n\\n기술 >\\n\\n반도체+\\n\\n[Behind the CHIP] 반도체, 그 성장의 기록: 과거, 현재, 그리고 미래\\n\\n[Behind the CHIP] 반도체, 그 성장의 기록: 과거, 현재, 그리고 미래\\n\\n2024.11.20\\n\\nby.세상의모든지식\\n\\n페이스북\\n\\n트위터\\n\\n카카오톡\\n\\n이메일\\n\\n반도체는 전기가 통하는 도체와 전기가 통하지 않는 부도체, 두 가지의 성질을 임의로 조절할 수 있는 물질로, 전자 신호를 제어하고 처리하는 데 필수적인 역할을 한다. 이러한 특성 덕분에 스마트폰부터 컴퓨터, 자동차 부품까지 반도체는 현대 전자 산업의 핵심이 되며, 오늘날 우리가 사용하는 대부분의 전자 장치의 근간을 이루고 있다.\\n\\n반도체 기술 수준이 국가 경쟁력의 척도가 될 만큼 그 중요성이 급부상하고 있는 요즘, 반도체 기술이 어디서부터 시작해 현재 첨단 반도체 기술로까지 발전할 수 있었는지 반도체의 역사와 현주소, 그리고 앞으로의 전망에 대해 알아보도록 하자.\\n\\n역사의 시작, 최초의 반도체 발견\\n\\n1833년, 영국의 저명한 과학자 ‘마이클 패러데이’는 비금속 물질의 전기 전도성을 연구하다가 황화은(Ag₂S)의 독특한 전기적 특성을 발견했다. 당시 패러데이는 ‘전기와 자기의 관계’에 대한 실험을 진행하고 있었으며, 특히 전기 전도에 대한 실험을 통해 물질의 전기 전도성을 조사하고 있었다.\\n\\n그는 금속과 비금속 재료를 포함한 다양한 물질의 전도성을 비교하며, 전도성 고체에 전류를 흐르게 하는 실험 과정에서 금속은 온도가 올라가면 저항이 증가하는 반면, 황화은과 같은 비금속 재료는 온도가 올라가도 전류가 지속적으로 흐른다는 점을 발견했다.\\n\\n해당 연구는 추후 반도체의 개념으로 발전하게 되는 중요한 발견이 되었으며, 패러데이는 이를 통해 금속과 비금속이 전류를 전도하는 방식에 차이가 있음을 밝히게 되었다. 이 발견은 전기화학 및 전자기학 분야의 발전에 크게 기여했고, 다양한 전기적 현상을 이해하는 데 중요한 기초를 제공했다. 하지만 당시에는 ‘반도체’라는 용어조차 없었고, 반도체의 성질을 실용적으로 활용하기에는 과학적 지식이 부족한 시기였기 때문에 반도체 연구는 이후 40년 동안 이렇다 할 진전을 보이지 못한 채 정체기를 겪게 된다.\\n\\n그러던 1874년, 독일 물리학자 ‘카를 페르디난트 브라운’이 황화납(PbS)과 같은 반도체 물질에 금속 핀을 접촉했을 때, ‘*정류 작용’이 발생한다는 것을 발견하면서 상황은 달라졌다. 즉, 반도체를 활용해 전류의 흐름을 제어할 수 있게 된 것이다. 브라운의 발견은 교류 전류를 직류 전류로 전환하는 기능을 수행하는 ‘점 접촉 다이오드(Point contact diode)’의 개발로 이어졌고, 전자기기에서 특정한 목적을 위해 반도체를 사용할 수 있다는 사실이 처음으로 입증되었다.\\n\\n정류 작용: 전류가 한 방향으로만 흐르는 현상. 전류는 일반적으로 양방향으로 흐르지만, 정류작용을 이용하면 전류를 한 방향으로 흐르게 만들 수 있다.\\n\\n그러나, 반도체 재료의 정제 기술이나 대량 생산 기술이 충분히 발전하지 못한 상황에서 1904년, 영국 물리학자 ‘존 플레밍’이 ‘진공관 다이오드(=2극 진공관)’를 발명했고, 반도체 다이오드보다 진공관 다이오드가 더 안정적인 정류 성능을 제공하면서 초기 전자 산업의 발전에 있어 반도체는 그다지 주목받지 못한 채 진공관에게 잠시 자리를 내주게 되었다.\\n\\n진공관의 한계와 트랜지스터의 탄생\\n\\n1907년, 미국의 발명가 ‘리 디포리스트’는 진공관 다이오드에 금속망(Grid)을 추가해 정류 기능에 증폭 기능까지 갖춘 ‘3극 진공관’을 발명했다. 인류가 전기 신호를 제어할 뿐만 아니라 증폭시킬 수 있는 능력까지 갖추게 만들어 준 것이다. 이에 따라 전력의 생산과 전송, 분배에 중점을 둔 전기 공학에서 벗어나 복잡한 신호 처리와 정보 전송을 다루는 전자 공학이라는 새로운 분야가 탄생했다. 이후 진공관은 장거리 전화 통신, 라디오 방송, 컴퓨터 발전에 있어 핵심적인 역할을 하며 한동안 전자 공학의 획기적인 발전을 주도했다.\\n\\n하지만 진공관은 수많은 공로에도 불구하고 전자 공학의 발전을 가로막는 치명적인 단점이 존재했다. 크기가 크고 무겁다는 점이었다. 이는 전자기기의 소형화에 제약을 주었으며, 높은 전압과 많은 전력이 필요해 에너지 효율이 매우 낮았다. 또한 작동 중 많은 열을 발생시켜 발열 문제를 일으켰을 뿐 아니라 수명이 짧고 유리로 만들어져 깨지기 쉽다는 물리적 취약성도 진공관이 가진 한계점이었다. 이러한 이유로 과학자들은 ‘작고 가벼우면서도 오래 사용할 수 있고, 전기도 적게 쓰면서 튼튼하기까지 한’ 새로운 증폭기를 개발해야만 했는데, 그때 떠오른 것이 바로 반도체였다.\\n\\n시간이 흐르면서 반도체는 물질에 대한 이론적 이해와 더불어 게르마늄과 실리콘 같은 고순도 반도체 재료의 생산 기술이 이전과 비교할 수 없을 정도로 발전해 있었다. 이러한 시대 흐름 속에서 1947년, 벨 연구소의 존 바딘, 월터 브래튼, 윌리엄 쇼클리가 게르마늄을 이용한 트랜지스터(Transistor) 개발에 성공하자 반도체는 전자 공학 발전의 새로운 주인공으로 급부상하게 된다.\\n\\n트랜지스터는 진공관보다 훨씬 작고 가벼워 전자기기의 소형화를 가능하게 했으며, 더 적은 전력으로 작동해 에너지 효율을 높이고 발열 문제도 크게 개선했다. 또한 게르마늄 내구성이 강한 재료적 특성으로 인해 전자 장비의 수명과 신뢰성도 크게 향상시켰다. 이로써 트랜지스터 발명 이후 전자 산업은 진공관 소자에서 반도체 소자로, 대대적으로 전환을 맞이하며 비약적인 발전을 이루게 된다.\\n\\n그러던 1950년대 중반 실리콘 트랜지스터가 개발되었고, 게르마늄 트랜지스터에 비해 온도 변화에 더 안정적이고 대량 생산에 더 유리했기 때문에 게르마늄 트랜지스터의 자리를 빠르게 대체하기 시작했다.\\n\\n집적회로(IC)의 탄생과 무어의 법칙\\n\\n한동안 트랜지스터가 진공관의 수많은 문제를 해결하긴 했지만, 또 다른 문제는 여전히 남아 있었다. 전자 회로는 트랜지스터, 저항, 다이오드, 캐패시터 등 여러 전자부품을 수작업으로 기판에 납땜해 연결하는 방식으로 만들어졌는데, 이러한 방식은 생산 시간이 매우 오래 걸렸다.\\n\\n게다가 자칫 연결 부위에 불량이라도 발생하면 전체 시스템이 동작하지 않는 문제가 발생했다. 하지만 이런 연결 부위는 전자제품의 기능이 늘어날수록 기하급수적으로 증가하는 특성이 있었기 때문에 과학자들은 또다시 돌파구를 찾아야 하는 시점에 놓였다.\\n\\n1950년대 후반, 마침내 잭 킬비와 로버트 노이스라는 두 과학자가 같은 시기에 비슷한 해결책을 떠올렸다. 약간의 차이는 있었지만 두 사람의 공통된 아이디어는 회로에 전자부품을 납땜으로 연결하는 것이 아니라 회로를 만들 때부터 기판과 부품을 하나로 통합하는 것이었다.\\n\\n이에 따라 수많은 전자부품을 반도체 칩 위에 일체화된 형태로 집적(集積)하는 ‘집적회로(Integrated Circuit, IC)’가 발명되었다. 그중에서도 노이스의 집적회로는 그의 동료 진 호에르니의 ‘평면 소자 공정 기술’과 결합해 3차원 입체 형태였던 전자부품들을 2차원 평면 형태로 회로에 구현할 수 있도록 만들었다. 이러한 방식은 수천 개 이상의 트랜지스터를 하나의 칩에 집적할 수 있도록 만들었고 전자 제품의 성능을 크게 향상시키면서 크기는 획기적으로 줄이는 결과를 낳았다.\\n\\n그렇게 1965년, 노이스의 또 다른 동료이자 함께 인텔(Intel)을 창업한 고든 무어는 ‘무어의 법칙’을 주장해 반도체 칩의 트랜지스터 수가 2년마다 두 배로 증가할 것이며 이로 인해 컴퓨팅 성능이 기하급수적으로 발전할 것이라고 예측했다. 무어의 예측은 사실이었다.\\n\\n이후 반도체 칩의 트랜지스터 밀도는 계속해서 높아졌고 1971년, 인텔이 출시한 첫 번째 마이크로프로세서 ‘Intel 4004’에 2,300개의 트랜지스터가 집적되어 있었던 반면, 2010년대 이후로 출시된 프로세서에는 무려 10억 개가 넘는 트랜지스터가 집적되기 시작했다.\\n\\n트랜지스터의 밀도가 높아짐에 따라 컴퓨터의 처리 속도는 이전과 비교할 수 없을 정도로 향상되었고 마침내 반도체 중심의 첨단 세상이 열리게 되었다.\\n\\n미세공정의 시대를 지나 초미세공정의 시대로\\n\\n무어의 법칙을 가능하게 만들었던 것은 공정 기술의 발전 덕분이었다.\\n\\n트랜지스터가 2차원 평면 속으로 들어간 이후, 더 많은 트랜지스터를 회로 안에 구현하기 위해 반도체 공정 기술은 계속해서 미세화되었다. 1970년대, 마이크로미터(μm) 단위에 진입한 미세공정은 1990년대에 이르자 나노미터(nm) 단위로까지 진입하기 시작했다.\\n\\n1나노미터는 기계를 이용한 물리적 공정으로는 절대 구현할 수 없는 머리카락 굵기의 10만 분의 1 수준에 불과한 두께지만, 빛을 이용해 마치 사진을 찍듯이 기판에 미세한 패턴을 새기는 포토리소그래피(Photolithography) 공정 덕분에 반도체 공정은 180nm, 90nm, 45nm, 22nm 수준으로 지속적으로 미세화될 수 있었다. 반도체 공정이 미세화됨에 따라 전자기기는 더욱 소형화되고 성능은 비약적으로 발전했다.\\n\\n하지만 미세화 수준이 점점 올라가 초미세 공정 수준에 이르자 미세공정은 점차 물리적 한계에 도달하기 시작했다. 같은 면적에 더 작은 트랜지스터를 더 많이 집적시키는 것이 미세공정의 핵심인데, 트랜지스터의 두께가 너무 얇아지고 트랜지스터들 사이의 거리가 가까워지자, 전자들이 트랜지스터의 얇은 벽을 통과해 누설되는 ‘양자 터널링’ 효과가 발생하기 시작한 것이다.\\n\\n이렇게 누설 전류가 발생하면 발열이 심해져 반도체의 성능이 감소하기 때문에, 반도체 기업들은 단순히 트랜지스터를 미세화하는 것을 넘어 새로운 돌파구를 찾기 시작했다.\\n\\n가장 먼저 도입된 해결책은 2차원 트랜지스터 구조를 일부 3차원으로 만드는 ‘핀펫(FinFET)’ 구조의 도입이었다. 트랜지스터는 ‘게이트(Gate)’에 전압이 가해지면 ‘채널(Channel)’을 통해 전류가 흐르는 구조로 되어 있는데 게이트와 채널이 닿는 면적이 늘어날수록 트랜지스터의 효율은 높아진다.\\n\\n핀펫 구조는 평면 상태의 채널을 입체적으로 만들어 채널과 채널을 감싸는 게이트가 닿는 면적을 1면에서 3면으로 늘려 트랜지스터의 성능을 향상시켰다. 2010년대, 핀펫으로 새로운 돌파구를 찾은 반도체 기업들은 핀펫 구조하에 추가적인 미세공정으로 반도체의 성능을 또 한 번 한계까지 끌어올렸지만, 초미세공정의 수준이 3nm와 2nm 단계에 이르자 핀펫 구조도 한계에 다다르기 시작했다.\\n\\n차세대 반도체 기술\\n\\n반도체 업계는 공정 미세화의 한계를 해결하기 위해 여러 가지 방향에서 대안을 찾고 있다. 그중 대표되는 차세대 반도체 기술들을 잠깐 살펴보도록 하자.\\n\\nGAA(Gate-All-Around) 구조\\n\\n신개념 트랜지스터 구조인 GAA 구조는 차세대 반도체 기술의 핵심 중 하나로 부상하고 있다. GAA 구조에서는 핀펫의 3면 접촉을 넘어 게이트가 모든 방향에서 트랜지스터의 채널을 감싸 채널 4면이 모두 게이트와 접촉하게 되어 트랜지스터의 효율을 더욱 높일 수 있게 만들어 준다.\\n\\nGAA는 3nm 이하 공정에서 필수적인 구조로, 2022년 삼성전자가 세계 최초로 GAA 기술을 적용한 3nm 파운드리 공정 기반의 양산을 시작했다.\\n\\n3D 적층 기술(3D Stacking)\\n\\n3D 적층 기술도 차세대 반도체 기술의 중요한 트렌드 중 하나다. 칩을 평면적으로 집적하는 기존의 방법과 달리, 3D 적층 기술은 칩을 수직으로 쌓아 올리는 방식으로 동일한 면적에 더 많은 트랜지스터를 집적할 수 있어 집적도를 극대화한다는 장점이 있다.\\n\\n신소재 개발\\n\\n신소재 개발도 차세대 반도체 기술 발전의 중요한 요소다. 게르마늄 반도체를 실리콘 반도체가 대체한 이후 오랜 시간 실리콘이 대표적인 반도체 소재로 사용되었지만, 이제는 실리콘이 물리적 한계에 도달했다는 것이 명확해지면서 새로운 반도체 소재에 대한 연구가 활발하게 진행되고 있다.\\n\\n신소재로는 그래핀, 탄화규소(SiC), 질화갈륨(GaN) 등이 떠오르고 있으며 더 높은 전력 효율, 더 낮은 발열, 그리고 더 빠른 전자 이동성을 제공한다는 점에서 이러한 신소재들이 고성능 반도체의 핵심 소재로 평가받고 있다.\\n\\n양자 컴퓨팅용 반도체\\n\\n양자 컴퓨팅은 기존의 디지털 컴퓨팅을 뛰어넘는 엄청난 계산 능력을 제공할 수 있는 기술로, 이를 실현하기 위한 반도체 소자의 개발이 활발히 진행 중이다.\\n\\n양자 컴퓨팅에서는 기존의 트랜지스터 대신 양자 비트(큐비트, Qubit)를 사용하는데, 이를 구현하기 위해 초전도체, 이온 트랩, 스핀트로닉스 등 다양한 기술이 연구되고 있다. 향후 이 기술들이 상용화된다면 인공지능, 암호 해독, 신약 개발 등 여러 분야에서 혁신을 가져올 수 있다.\\n\\n차세대 반도체 기술은 기존의 미세공정을 넘어서는 새로운 혁신을 통해 반도체 산업의 지속적인 발전을 가능하게 할 것이다. 이에 GAA 트랜지스터 구조, 3D 적층 기술, 양자 컴퓨팅용 반도체, 신소재 개발 등 다양한 기술들이 현재 반도체 성능을 한층 더 끌어올리고 있으며, 이러한 기술들은 인공지능, 자율주행, 통신, 의료 등 미래 기술 전반에 걸쳐 혁신을 촉진하는 데 중요한 역할을 할 것이다.\\n\\n※ 본 칼럼은 외부 필진의 견해로, 삼성전자 DS부문의 공식 입장과 다를 수 있습니다.\\n\\n지식 콘텐츠 크리에이터\\n\\n세상의모든지식\\n\\n작성글 모아보기\\n\\n관련태그\\n\\n#Behind the CHIP #BehindtheCHIP #비하인드 더 칩 #비하인드더칩 #반도체 역사 #세모지 #게르마늄 트랜지스터 #집적회로 #무어의 법칙 #초미세공정 #GAA\\n\\n삼성전자 반도체 소식 더 알아보기\\n\\n2024.11.22\\n\\n[반도체 테크 세미나] 반도체 혁신 사례 공유로 협력사와 동반 성장을 도모하다\\n\\n2024.11.06\\n\\n[Behind the CHIP] 카메라 없이 만드는 영상 제작의 시대, 생성형 AI가 이끄는 창작의 혁신\\n\\n2024.10.28\\n\\n[삼교시 탐구생활 Ep.17] 실시간 '완벽'한 성능 조절! 세상에서 가장 빠른 모바일 D램 'LPDDR5X'\\n\\n목록\\n\\n뉴스룸 소개\\n\\n운영정책\\n\\n개인정보처리방침\\n\\n이메일 문의\\n\\n삼성전자 뉴스룸\\n\\n삼성전자 반도체 웹사이트\\n\\n삼성전자 반도체 링크드인(영문)\\n\\n삼성전자 반도체 트위터(영문)\\n\\n© 2024. Samsung Electronics. All rights reserved.\\n\\n기간 설정\")]"
      ]
     },
     "execution_count": 38,
     "metadata": {},
     "output_type": "execute_result"
    }
   ],
   "source": [
    "docs"
   ]
  },
  {
   "cell_type": "code",
   "execution_count": 39,
   "metadata": {},
   "outputs": [
    {
     "name": "stderr",
     "output_type": "stream",
     "text": [
      "/home/kyudan/.local/lib/python3.10/site-packages/pypdfium2/_helpers/textpage.py:80: UserWarning:\n",
      "\n",
      "get_text_range() call with default params will be implicitly redirected to get_text_bounded()\n",
      "\n"
     ]
    },
    {
     "data": {
      "text/plain": [
       "[Document(metadata={'source': '차세대반도체.pdf', 'page': 0}, page_content='♧ Ctrl+F로 검색할 수 있습니다. ♧\\r\\n1 중앙대학교에서 개설되지 않은 과목도 수강가능한가요?\\r\\n→ 첨단분야 혁신융합대학은 7개 대학(중앙대 외 서울대, 숭실대, 포항공대, 강원대,\\r\\n대구대, 조선이공대)에서 교과목을 신청, 이수 가능하고 학점교류 형식으로 신청할\\r\\n수 있습니다.\\r\\n2 강원대나 포스텍같이 중앙대에서 먼 곳은 직접 가서 수업을 들어야 되나요?\\r\\n→ 지리적으로 먼 곳은 정규학기에는 대부분 줌(실시간)으로 수업을 합니다.\\r\\n서울대나 숭실대도 대부분 줌으로 수업을 하지만, 계절학기의 경우는 오프라인\\r\\n수업일 때도 있습니다. 학교별, 교수님별로 진행 방식이 다르니, 각 학기의 학교별\\r\\n학점교류 신청 공지사항 및 강의계획서를 참고해주시기 바랍니다. 강의에 대한\\r\\n문의는 담당대학 사무실에 직접 문의바랍니다.\\r\\n- 차세대반도체 컨소시엄 조직도 안내 (https://url.kr/ju6ndr)\\r\\n3 반도체와 연관이 없는 전공이라 화학, 물리, 소자 자식이 없는데 해당 과목 수강에 지장이\\r\\n없나요?\\r\\n→ 차세대반도체학과에서는 비전공자 및 비이공계 학생들 또한 수강할 수 있도록\\r\\n난이도별로 교과목이 구성되어 있습니다. 교양과목 및 초급난이도의 과목도\\r\\n개설됩니다.\\r\\n4 마이크로디그리와 다전공 학위가 무엇인가요?\\r\\n● 차세대반도체 융합대학 과정을 통해서 총 16개의 마이크로디그리(이수증)와 부전공,\\r\\n복수전공 학위를 취득할 수 있습니다.(연계전공 추가 진행 예정)\\r\\n→ 마이크로디그리란 기존 학위(4년 또는 2년) 제도와 달리 이수시간이나 학점\\r\\n단위로 이수 결과를 조합해서 학위를 취득하는 제도입니다. 차세대반도체학과에서'),\n",
       " Document(metadata={'source': '차세대반도체.pdf', 'page': 1}, page_content='개설된 과목으로 총 9학점을 이수하면 마이크로디그리 인증서 신청이 가능합니다.\\r\\n(폴라리스 홈페이지 공지사항 링크에서 상시접수, 주관대학 사업단장 명의). 또한\\r\\n중앙대학교에서는 마이크로디그리 이수증을 발급받은 후 학점 4.3 이상인 경우\\r\\n50만원, 3.8 이상인 경우 30만원의 장학금을 드립니다. (본인 직접 신청, 선정 대상\\r\\n등 사업단 내부 사정에 따라 변경될 수 있음, 학점 기준은 마이크로디그리 신청\\r\\n과목의 평균 평점으로 계산 *P/F 과목 제외)\\r\\n- 마이크로디그리 관련 공지사항 (https://han.gl/kkWVSm)\\r\\n- 성과형 장학금 관련 공지사항 (https://han.gl/LQUsEU)\\r\\n- 차세대반도체학과 교과목 안내\\r\\n(https://semicon.disu.ac.kr/academic/curriculum)\\r\\n→ 다전공 중에서 차세대반도체학과는 복수전공, 부전공 과정을 진행 중에\\r\\n있습니다. 다전공의 경우 다전공 신청을 하고 난 후 해당 이수학점이\\r\\n충족되면(복수전공 : 39학점, 부전공 : 21학점) 학위증에 해당 학위가 기재되어\\r\\n나갑니다.\\r\\n- 중앙대 홈페이지 다전공 설명 페이지 (https://han.gl/XdXFSj)\\r\\n- 차세대반도체학과 다전공 신청 관련 공지사항 (https://han.gl/lrOTlu)\\r\\n5 차세대반도체학과 과목명과 똑같은 과목명을 소속학과에서 이미 6학점을 들었을 경우,\\r\\n이번에 개설된 과목 중 1개의 과목만 추가로 이수하면 마이크로디그리를 받을 수 있나요?\\r\\n→ 안됩니다. 차세대반도체학과에서 개설된 과목으로 이수를 해야 인정됩니다.\\r\\n또한 동일한 과목을 차세대반도체학과에서 중복 수강할 수 없습니다.\\r\\n6 학위신청을 통해 차세대반도체학과 학생이 되면 어떤 혜택이 있을까요?\\r\\n→ 차세대반도체학과 학생들이 지정 요건을 만족하면 주전공 학위에 더하여\\r\\n마이크로디그리(이수증 발급 가능,정규 학위 과정 아님), 복수전공, 부전공 학위를\\r\\n받을 수 있습니다. 아울러, 2022학년부터 장학금 혜택 및 각종 연수 프로그램, 인턴,\\r\\n현장실습, 경진대회 등의 비교과 프로그램 참가 자격을 갖게 됩니다. 또한\\r\\n마이크로디그리는 취업 시 기재 가능한 것으로 보입니다.\\r\\n7 POLARIS는 무슨 의미인가요?\\r\\n→ POLARIS에는 중의적인 의미가 있습니다. 첫번째는 북극성(Polaris)을 찾을 때\\r\\n활용되는 북두칠성처럼 본 사업에 참여하는 7개 대학이 협력하여 대학생들이\\r\\n자신의 진로(Polaris)를 탐색할 때 올바른 길을 안내하는 길잡이 역할을 하고자\\r\\n합니다. 또한 차세대 반도체 혁신융합대학 사업단의 7대 전략인 Paradigm shift\\r\\n(발상의 전환) / Opportunity (기회) / Limitl→ss pot→ntial (무한한 잠재력) / Ap→x\\r\\n(최고) / R→lationship (관계) / Incr→as→ (확산) / Shar→ (공유)의 앞글자를 따서\\r\\nPOLARIS라고 명명하여 본 사업단의 별칭으로 사용됩니다.'),\n",
       " Document(metadata={'source': '차세대반도체.pdf', 'page': 2}, page_content='8 본 과정에서 학위 취득 제도만 있는 것인지요?\\r\\n→ 절대 아닙니다! 본 과정은 미래시대에 부족한 신기술분야의 “준비된 인재”를\\r\\n양성하는 것이 목표입니다. 이를 위하여 산업체와 긴밀히 교류하며 다양한 인턴\\r\\n경험을 쌓을 수 있는 많은 비교과 과정도 운영 될 예정이니 학생들의 많은 참여\\r\\n바랍니다.\\r\\n9 본 과정에 참여하는 학생에게 어떤 도움이 되나요?\\r\\n→ 첫째! 비전공자를 위한 신기술분야 수준별 모듈형 교육과정에 참여함으로써,\\r\\n차세대 반도체 관련 학위 취득이 가능합니다.\\r\\n둘째! 기업체 및 대학 연구실에서의 다양한 인턴 프로그램을 경험함으로써, 반도체\\r\\n관련 기업 취업이나 진학에 도움을 받을 수 있습니다.\\r\\n셋째! 반도체 공정 실습에 관심이 있는 학생의 경우 자격요건에 부합할 경우,\\r\\n중앙대학교 학생들에 한해 외부 공정실습 프로그램을 제공할 예정입니다. 또한\\r\\n서울대 반도체 공동 연구소 및 포항공대 나노 융합 기술원에서의 공정 실무 실습\\r\\n기회를 얻을 수 있습니다.\\r\\n(신청자가 많을 경우 반도체 공정 장비 여건상 선착순으로 교육 기회를 제공하게\\r\\n됩니다.)\\r\\n10 차세대 반도체 혁신 융합대학 과정에 참가하고 싶으면 어떻게 하면 되나요?\\r\\n→ 학점교류의 경우 공지사항에 신청 시기에 맞춰 학교별 학점교류신청 안내 공지가\\r\\n올라옵니다. 공지사항 확인 후 메일 등 으로 신청서 제출하신 후 학번 부여받고\\r\\n수강신청 후 수강하시면 됩니다.\\r\\n→ 마이크로디그리 및 다전공 신청의 경우 4번 질문의 답변을 확인해주시기\\r\\n바랍니다.\\r\\n11 차세대 반도체 혁신 융합대학이란 무엇인가요?\\r\\n→ 산업체에서의 반도체 분야 인력 수요는 급증하고 있으나, 대학에서의 인력\\r\\n공급이 전반적으로 부족하여 신기술 혁신 인재 양성이 시급하게 되었습니다.\\r\\n따라서 전공에 관계없이, 반도체 관련 인재로 성장하고 싶은 7개 대학 희망 학생\\r\\n누구나 반도체 교육과정을 이수할 수 있도록 학생 선택권을 확대하기 위한 교육\\r\\n제도로 “혁신융합대학” 과정이 시작되었습니다.\\r\\n12 학부인턴 프로그램은 무엇인가요?'),\n",
       " Document(metadata={'source': '차세대반도체.pdf', 'page': 3}, page_content='→ 중앙대학교에서는 2023년 겨울학기 학부생 연구 인턴 프로그램을 개설할\\r\\n예정입니다. 또한 서울대학교와 포스텍에서도 학부인턴 프로그램을 개최합니다.\\r\\n반도체, 인공지능과 관련된 프로그램이 열리고, 기회가 된다면 논문도 작성할 수\\r\\n있는 좋은 프로그램입니다. 대학원에 관심이 있는 분들은 교수님들과도 인연이 될\\r\\n수 있는 기회로 좋은 길이 될 수 있습니다.\\r\\n13 8차학기 (졸업예정) 인 학생도 복수전공이 가능한가요?\\r\\n→ 불가능합니다. 전자전기공학부 학생 및 졸업예정 학기에는 복수전공 신청이\\r\\n불가능합니다.\\r\\n14 서울대 학점교류과정이 어떻게 되나요?\\r\\n→ 중앙대학교 차세대반도체학과에 특정 과목을 듣겠다는 서류(신청 공고시 양식\\r\\n제공)를 메일로 보낸 뒤, 학번 안내받고 서울대 수강신청 사이트에서 신청 시기에\\r\\n직접 선착순으로 수강 신청하는 형태입니다. 대신에 선착순으로 못잡으면,\\r\\n교수님께 따로 메일 넣으시면 융합대학 봐주셔서 나중에 추가신청으로\\r\\n받아주십니다.\\r\\n- 2023-2 서울대 학점교류 공지사항 (https://han.gl/DSxBIe)\\r\\n15 포스텍 학점교류과정이 어떻게 되나요?\\r\\n→ 중앙대학교 차세대반도체학과에 특정 과목을 듣겠다는 서류(신청 공고시 양식\\r\\n제공)를 메일로 보낸 뒤, 학번 안내받고 포항공대 수강신청 사이트에서 신청\\r\\n시기에 직접 수강 신청하는 형태입니다. 포항공대에서 자동으로 수강신청해주는\\r\\n학기도 있으나, 매학기 학점교류 공지사항에 정확히 기재되어 있으니 필히\\r\\n확인하고 학점교류 신청하시기 바랍니다.\\r\\n- 2023-2 포항공대 학점교류 공지사항 (https://han.gl/nyLXxw)\\r\\n16 계절학기 아직 복수전공 안 하는 상태여도 신청하고 나중에 변경 가능한가요??\\r\\n→ 가능합니다. 복수전공 신청 후, 자유선택이었던 과목들을 과목이수변경신청서를\\r\\n제출하여 전공선택 및 부전공, 복수전공으로 전환할 수 있습니다. 부전공 및\\r\\n복수전공으로 졸업하기 위해서는 필히 변경해야합니다.\\r\\n- 이수구분 변경 신청 관련 공지사항 (https://han.gl/zBZzno)\\r\\n17 차세대 반도체 혁신융합대학에서 진행하는 학부연구생 / 인턴은 지원자격이 어떻게\\r\\n되나요? 다전공자 한해서 하는건가요?'),\n",
       " Document(metadata={'source': '차세대반도체.pdf', 'page': 4}, page_content='→ 특별한 지원자격은 없습니다. 다전공하지 않아도 참여가능합니다만, 서울대\\r\\n학부연구 같은 경우에는 대부분 서울대에서 열리는 차세대반도체학과 수업\\r\\n교수님들이라, 수업 때 교수님과 친해지면서 자연스럽게 학부연구하는 경우가\\r\\n있습니다. 물론 전혀 얼굴을 몰라도 자기소개를 잘하면 붙을 순 있습니다. 포스텍\\r\\n학부연구생도 마찬가지입니다.\\r\\n18 전공선택-기초반도체물리를 1학기에 수강했고, 부전공을 하는 중인데 보관성적에서는\\r\\n자유선택이라고 떠서요. 오류인 걸까요?\\r\\n→ 다전공을 신청하지 않은 학생들의 경우, 전공선택 과목을 수강해도\\r\\n자유선택으로 이수됩니다. 부전공으로 이수구분 변경 신청서를 작성하여 제출해야\\r\\n합니다.\\r\\n- 이수구분 변경 신청 관련 공지사항 (https://han.gl/zBZzno)\\r\\n19 강원대와 포항공대, 서울대는 성적을 어떻게 주나요?\\r\\n→ 강원대는 중앙대와 마찬가지로 4.5점 만점, A+, A, B+, B … 으로 부여합니다.\\r\\n서울대학교와 포항공과대학교는 4.3점 만점, A+, A0, A-, B+, B0, B- … 으로\\r\\n부여합니다.\\r\\n서울대학교와 포항공과대학교에서 해당 점수를 받을 경우 중앙대학교에서는\\r\\n다음과 같은 점수로 변경되어 성적이 등록됩니다.\\r\\n서울대/포항공대 중앙대학교\\r\\nA+ A+\\r\\nA0 A+\\r\\nA- A\\r\\nB+ B+\\r\\nB0 B+\\r\\nB- B\\r\\n20 1학년도 수강할 수 있나요?\\r\\n→ 당연히 가능합니다.'),\n",
       " Document(metadata={'source': '차세대반도체.pdf', 'page': 5}, page_content='21 학점교류를 하게된다면 성적산출이 어떻게 되는지 궁금합니다. 만약 서울대 과목을\\r\\n수강하게 되면 중앙대 학생끼리 경쟁해서 학점산출이 되는건지 궁금합니다.\\r\\n→ 수업에 참여하는 학생들 안에서 학교구분 없이 똑같이 성적부여합니다. 대신\\r\\n성적이 좀 후한 수업이 많은 편입니다.\\r\\n22 혹시 학점교류는 한학기에 9학점까지 가능하다는게 저희학교에서 열리는 강의는 당연히\\r\\n미포함인거죠?\\r\\n→ 학점교류의 경우 타학교에서 수강하는 학점교류를 의미합니다. 9학점 제한없이\\r\\n수강을 원하는 경우 매학기 학점교류 신청 기간에 공지하는 취득학점 제한 완화\\r\\n신청서를 제출하시면 됩니다. 취득학점 제한 완화를 해도 본인 최대 수강학점(19\\r\\n혹은 20) 을 초과할 수 없습니다.\\r\\n- 취득학점 제한 완화 공지사항 (https://han.gl/FPmdHJ)\\r\\n23 복수전공 결과가 7/19에 나오는 것으로 알고 있는데, 그 전에 그러면 서울대 학점 교류는\\r\\n미리 신청해도 괜찮은걸까요?\\r\\n→ 복수전공/부전공 상태가 아니어도 학점교류신청을 할 수 있고 수업을 들을 수\\r\\n있습니다. 이후 다전공 신청을 하지 않는다면, 자유선택으로 남게 되고, 다전공\\r\\n신청을 하게 되면 복수전공/부전공으로 이수구분 변경을 할 수 있습니다.\\r\\n다전공 신청을 한 후에 복수전공/부전공이 아닌 전공선택으로 이수하고 싶은\\r\\n경우는 전공선택으로 이수구분 변경 신청하시면 됩니다.\\r\\n- 이수구분 변경 신청 관련 공지사항 (https://han.gl/zBZzno)\\r\\n24 성과형 장학금 신청이 재 신청 가능한가요?\\r\\n→ 재신청 가능합니다. 서로 다른 마이크로디그리에 대해서 신청 가능합니다.\\r\\n25 수업 방식이 오프라인 으로 기재되어 있는 과목은 타대생이여도 반드시 대면으로만\\r\\n수강해야하나요?\\r\\n→ 서울대 수업이 보통 대면으로 열리게 되면 타대생도 대면으로 듣습니다.\\r\\n5511타고 301동까지 30분정도 걸립니다. 하지만 정확한 사항은 강의계획서에 있는\\r\\n교수님 메일로 문의하면 좋을 것 같습니다. 강원대의 경우에도 시험만 대면이면\\r\\n시험때만 실제로 강원대로 가야할 수 있습니다. 이것도 마찬가지로 수업 교수님께\\r\\n확인해보시는게 확실할 것 같습니다. (수업 관련 문의는 해당 대학 사업단 사무실\\r\\n혹은 교수님께 문의하시기 바랍니다.)'),\n",
       " Document(metadata={'source': '차세대반도체.pdf', 'page': 6}, page_content='26 8차 학기(막학기) 학점교류가 불가능해서 다전공 학점을 채울 수가 없습니다. 어떻게\\r\\n해야합니까?\\r\\n→ 본교는 졸업예정자(8차학기)의 학점교류가 불가함에 따라, 불가피하게\\r\\n추가학기를 통해 상대교의 개설과목을 수강해야 하는 경우 추가학기 등록 서약서를\\r\\n제출하여 8차학기 학점교류를 할 수 있습니다. 위와 관련하여 대상자는 학점교류\\r\\n신청서 제출 시, 붙임의 추가학기 등록 서약서를 작성하여 함께 제출하여 주시기\\r\\n바랍니다.\\r\\n추가학기 등록 서약서를 제출하고 추가학기를 등록하지 않을 경우, 졸업이\\r\\n불가함을 안내드립니다.\\r\\n7학기와 졸업 직전의 계절학기를 통하여 학점교류 신청을 하시기 바랍니다.\\r\\n- 추가학기 등록 서약서 관련 공지사항 (https://han.gl/DviSLm)\\r\\n27 이번 여름학기에 서울대학교에서 학점교류 수업을 들었는데 중앙대학교 성적으로\\r\\n이관은 자동으로 되는건가요? 아니면 제가 따로 해야하는 절차가 있는지 궁금합니다\\r\\n→ 자동으로 이관됩니다. 이관에는 다소 시간이 걸립니다.(모든 학교 성적 처리가\\r\\n끝난 후 절차 진행) 예를 들어 1학기 과목의 경우 8월 초 쯤 이관이 됩니다.\\r\\n28 중앙대 이번 학기 제한 학점이 20학점인데, 여기에 중앙대에서 듣는 수업만 해당인지\\r\\n학점교류까지 포함해서 20학점인지 질문드려도 괜찮을까요? 예를 들어 서울대에서 6학점\\r\\n듣고, 중앙대에서 16학점 듣고 이런식으로 해서 총 22학점 듣는것도 가능한가요?\\r\\n→ 학점 교류하는 과목의 학점까지 포함하여 19 혹은 20학점을 초과하여 수강할 수\\r\\n없습니다.\\r\\n29 중앙대학교 성적장학금을 받는 조건이 궁금합니다.\\r\\n→ 타대학에서 학점교류한 과목의 학점을 제외하고, 중앙대학교에서 이수한 과목이\\r\\n16학점 이상이어야 장학금을 받을 수 있습니다. 이 점 유의하시기 바랍니다. 자세한\\r\\n내용은 학교 장학안내 페이지를 필히 확인바랍니다.\\r\\n- 중앙대학교 장학 안내 페이지 (https://han.gl/VtSeHS)\\r\\n30. 학점이월제 가능한가요?\\r\\n→ 불가능합니다. 학점 이월제의 경우(직전 학기 4.0 또는 지난 학기 이월 학점\\r\\n등)에도 학사 운영 규정 제17조에 의하여 불가능합니다. 이런 내용은 매학기\\r\\n중앙대학교 수강 신청 공지 관련 파일(PDF)에도 기재되어 있습니다.'),\n",
       " Document(metadata={'source': '차세대반도체.pdf', 'page': 7}, page_content='31. 정규단 학생에게 물어볼 것 : 수업 시작 전 학생들에게 COSS HUB LMS 공지가 어떻게\\r\\n되는지, 학생들이 직접 신청하는 과정이 궁금\\r\\n32. 학번을 받고 수강신청을 하지 않은 경우 혹은 수강신청 후 드랍하고 싶은 경우 어떻게\\r\\n하면 되나요?\\r\\n→ 각 대학 수강 정정 혹은 수강 취소 기간을 확인 후 아래의 방법으로 취소\\r\\n신청하시면 됩니다.\\r\\n1. 중앙대학교 차세대반도체학과 메일로 취소사유서 제출\\r\\n2. 수강신청을 했을 경우, 해당 과목 수강 취소\\r\\n- 학점교류 신청 취소 안내 공지사항 (https://lrl.kr/fjUb)')]"
      ]
     },
     "execution_count": 39,
     "metadata": {},
     "output_type": "execute_result"
    }
   ],
   "source": [
    "from langchain_community.document_loaders import PyPDFium2Loader\n",
    "file_path = \"차세대반도체.pdf\"\n",
    "loader = PyPDFium2Loader(file_path)\n",
    "pages = loader.load_and_split()\n",
    "\n",
    "pages"
   ]
  },
  {
   "cell_type": "code",
   "execution_count": 40,
   "metadata": {},
   "outputs": [],
   "source": [
    "docs = docs+pages"
   ]
  },
  {
   "cell_type": "code",
   "execution_count": 41,
   "metadata": {},
   "outputs": [
    {
     "data": {
      "text/plain": [
       "[Document(metadata={'source': 'https://www.disu.ac.kr/academic/program'}, page_content='혁신융합대학\\n\\n혁신융합대학이란?\\n\\n인사말\\n\\n7대목표\\n\\n인재상\\n\\nFAQ\\n\\n참여대학/조직도\\n\\n오시는 길\\n\\n학위학사 안내\\n\\n학위제도\\n\\n개설교과목\\n\\n학사일정\\n\\n성과확산센터\\n\\n소개\\n\\nPOLAR explorer\\n\\nPOLAR expert\\n\\nPOLAR W-square\\n\\nPOLAR edu\\n\\n경진대회\\n\\nPOLARIS LOC\\n\\nPOLARIS LOS\\n\\n경진대회\\n\\nTCAT\\n\\nSIF 2025\\n\\n소개\\n\\n지난 SIF 보기\\n\\n게시판\\n\\n공지사항\\n\\nNews\\n\\n행사\\n\\nQ&A\\n\\nPOLARIS TMI\\n\\nPOLAR GATE\\n\\nPOLARIS 학사학위안내\\n\\n학위제도\\n\\n학위학사 안내\\n\\n학위제도\\n\\n실무 인재\\n\\n현장중심형 교육을 통한 실무형 인재\\n\\n초급 전문대생 및 일반인 반도체 입문(마이크로디그리)(9학점)\\n\\n융합 인재\\n\\n본 소속 전공 외 반도체 분야의 지식을 겸비한 융합형 이공계 비전공 인재\\n\\n초급 중급 고급 이공계, 비이공계 학생 및 일반인 이공계 및 신기술분야 초급과정 이수 비이공계 학생 * 이에 준하는 수준의 학생 참여 가능 신기술분야 초급과정을 이수한 학생 * 이에 준하는 수준의 학생 참여 가능 반도체 초급 (마이크로디그리)(9학점) 반도체 중급(분야별 마이크로디그리)(9학점) 연계전공(42학점 이상) 부전공(21학점 이상) 융합전공(42학점 이상)\\n\\n통합 인재\\n\\n반도체와 연관된 업무를 원활히 수행 할 수 있는 인문/사회계 인재\\n\\n초급 비이공계 학생 및 일반인 반도체 입문(마이크로디그리)(9학점)\\n\\n전문 인재\\n\\n산업체 현장의 문제를 스스로 해결하는 능력과 창의력을 보유한 리더형의 반도체 전문가\\n\\n고급 전문 신기술분야 초급과정을 이수한 학생 * 이에 준하는 수준의 학생 참여 가능 차세대 반도체 표준 교과과정과 해당 학과 교과과정이 10개 이상 유사 과목을 갖는 전자계열 전공 학생 복수전공(39학점 이상) 심화전공(18학점 이상) 반도체 고급(분야별 마이크로디그리)(9학점) 학석사연계(18학점 이상)\\n\\n혁신융합대학\\n\\n혁신융합대학이란?\\n\\n인사말\\n\\n7대목표\\n\\n인재상\\n\\nFAQ\\n\\n참여대학/조직도\\n\\n오시는 길\\n\\n학위학사 안내\\n\\n학위제도\\n\\n개설교과목\\n\\n학사일정\\n\\n성과확산센터\\n\\n소개\\n\\nPOLAR explorer\\n\\nPOLAR expert\\n\\nPOLAR W-square\\n\\nPOLAR edu\\n\\n경진대회\\n\\nPOLARIS LOC\\n\\nPOLARIS LOS\\n\\n경진대회\\n\\nTCAT\\n\\nSIF 2025\\n\\n소개\\n\\n지난 SIF 보기\\n\\n게시판\\n\\n공지사항\\n\\nNews\\n\\n행사\\n\\nQ&A\\n\\nPOLARIS TMI\\n\\nPOLAR GATE\\n\\n차세대반도체 첨단분야 혁신융합대학 사업단\\n\\n서울대학교 혁신융합대학 사업단I서울특별시 관악구 관악로 1, 300동 610호ITEL : 02-880-5825, 5824\\n\\n강원대학교 혁신융합대학 사업단I강원도 춘천시 강원대학길 1, 아산관 310호ITEL : 033-250-7694\\n\\n대구대학교 혁신융합대학 사업단I경상북도 경산시 진량읍 대구대로 201, 교수학습지원관 1102호ITEL : 053-850-6703\\n\\n숭실대학교 혁신융합대학 사업단I서울특별시 동작구 상도로 369, 창신관 204호ITEL : 02-829-8225\\n\\n조선이공대학교 혁신융합대학 사업단I광주 동구 필문대로 309-1, 본부동 4층 0401-1호ITEL : 062-230-8490\\n\\n중앙대학교 혁신융합대학 사업단I서울특별시 동작구 흑석로 84, 207관 105호ITEL : 02-881-7301\\n\\n포항공과대학교 혁신융합대학 사업단I경상북도 포항시 남구 청암로 77, 공학 2동 413호ITEL : 054-279-5074\\n\\n서울대학교 혁신융합대학 사업단ITEL : 02-880-5825, 5824 서울특별시 관악구 관악로 1, 300동 610호\\n\\n강원대학교 혁신융합대학 사업단ITEL : 033-250-7694 강원도 춘천시 강원대학길 1, 아산관 310호\\n\\n대구대학교 혁신융합대학 사업단ITEL : 053-850-6703 경상북도 경산시 진량읍 대구대로 201, 교수학습지원관 1102호\\n\\n숭실대학교 혁신융합대학 사업단ITEL : 02-829-8225 서울특별시 동작구 상도로 369, 창신관 204호\\n\\n조선이공대학교 혁신융합대학 사업단ITEL : 062-230-8490 광주 동구 필문대로 309-1, 본부동 4층 0401-1호\\n\\n중앙대학교 혁신융합대학 사업단ITEL : 02-881-7301 서울특별시 동작구 흑석로 84, 207관 105호\\n\\n포항공과대학교 혁신융합대학 사업단ITEL : 054-279-5074 경상북도 포항시 남구 청암로 77, 공학 2동 413호\\n\\nCopyright (c) POLARIS All rights reserved.'),\n",
       " Document(metadata={'source': 'https://news.samsungsemiconductor.com/kr/behind-the-chip-%eb%b0%98%eb%8f%84%ec%b2%b4-%ea%b7%b8-%ec%84%b1%ec%9e%a5%ec%9d%98-%ea%b8%b0%eb%a1%9d-%ea%b3%bc%ea%b1%b0-%ed%98%84%ec%9e%ac-%ea%b7%b8%eb%a6%ac%ea%b3%a0-%eb%af%b8%eb%9e%98/'}, page_content=\"본문 바로가기\\n\\n삼성반도체이야기는 더 이상 Internet Explorer를 지원하지 않습니다. 최적의 환경을 위해 다른 웹브라우저 사용을 권장합니다.\\n\\nENG\\n\\n기술 >\\n\\n반도체+\\n\\n[Behind the CHIP] 반도체, 그 성장의 기록: 과거, 현재, 그리고 미래\\n\\n[Behind the CHIP] 반도체, 그 성장의 기록: 과거, 현재, 그리고 미래\\n\\n2024.11.20\\n\\nby.세상의모든지식\\n\\n페이스북\\n\\n트위터\\n\\n카카오톡\\n\\n이메일\\n\\n반도체는 전기가 통하는 도체와 전기가 통하지 않는 부도체, 두 가지의 성질을 임의로 조절할 수 있는 물질로, 전자 신호를 제어하고 처리하는 데 필수적인 역할을 한다. 이러한 특성 덕분에 스마트폰부터 컴퓨터, 자동차 부품까지 반도체는 현대 전자 산업의 핵심이 되며, 오늘날 우리가 사용하는 대부분의 전자 장치의 근간을 이루고 있다.\\n\\n반도체 기술 수준이 국가 경쟁력의 척도가 될 만큼 그 중요성이 급부상하고 있는 요즘, 반도체 기술이 어디서부터 시작해 현재 첨단 반도체 기술로까지 발전할 수 있었는지 반도체의 역사와 현주소, 그리고 앞으로의 전망에 대해 알아보도록 하자.\\n\\n역사의 시작, 최초의 반도체 발견\\n\\n1833년, 영국의 저명한 과학자 ‘마이클 패러데이’는 비금속 물질의 전기 전도성을 연구하다가 황화은(Ag₂S)의 독특한 전기적 특성을 발견했다. 당시 패러데이는 ‘전기와 자기의 관계’에 대한 실험을 진행하고 있었으며, 특히 전기 전도에 대한 실험을 통해 물질의 전기 전도성을 조사하고 있었다.\\n\\n그는 금속과 비금속 재료를 포함한 다양한 물질의 전도성을 비교하며, 전도성 고체에 전류를 흐르게 하는 실험 과정에서 금속은 온도가 올라가면 저항이 증가하는 반면, 황화은과 같은 비금속 재료는 온도가 올라가도 전류가 지속적으로 흐른다는 점을 발견했다.\\n\\n해당 연구는 추후 반도체의 개념으로 발전하게 되는 중요한 발견이 되었으며, 패러데이는 이를 통해 금속과 비금속이 전류를 전도하는 방식에 차이가 있음을 밝히게 되었다. 이 발견은 전기화학 및 전자기학 분야의 발전에 크게 기여했고, 다양한 전기적 현상을 이해하는 데 중요한 기초를 제공했다. 하지만 당시에는 ‘반도체’라는 용어조차 없었고, 반도체의 성질을 실용적으로 활용하기에는 과학적 지식이 부족한 시기였기 때문에 반도체 연구는 이후 40년 동안 이렇다 할 진전을 보이지 못한 채 정체기를 겪게 된다.\\n\\n그러던 1874년, 독일 물리학자 ‘카를 페르디난트 브라운’이 황화납(PbS)과 같은 반도체 물질에 금속 핀을 접촉했을 때, ‘*정류 작용’이 발생한다는 것을 발견하면서 상황은 달라졌다. 즉, 반도체를 활용해 전류의 흐름을 제어할 수 있게 된 것이다. 브라운의 발견은 교류 전류를 직류 전류로 전환하는 기능을 수행하는 ‘점 접촉 다이오드(Point contact diode)’의 개발로 이어졌고, 전자기기에서 특정한 목적을 위해 반도체를 사용할 수 있다는 사실이 처음으로 입증되었다.\\n\\n정류 작용: 전류가 한 방향으로만 흐르는 현상. 전류는 일반적으로 양방향으로 흐르지만, 정류작용을 이용하면 전류를 한 방향으로 흐르게 만들 수 있다.\\n\\n그러나, 반도체 재료의 정제 기술이나 대량 생산 기술이 충분히 발전하지 못한 상황에서 1904년, 영국 물리학자 ‘존 플레밍’이 ‘진공관 다이오드(=2극 진공관)’를 발명했고, 반도체 다이오드보다 진공관 다이오드가 더 안정적인 정류 성능을 제공하면서 초기 전자 산업의 발전에 있어 반도체는 그다지 주목받지 못한 채 진공관에게 잠시 자리를 내주게 되었다.\\n\\n진공관의 한계와 트랜지스터의 탄생\\n\\n1907년, 미국의 발명가 ‘리 디포리스트’는 진공관 다이오드에 금속망(Grid)을 추가해 정류 기능에 증폭 기능까지 갖춘 ‘3극 진공관’을 발명했다. 인류가 전기 신호를 제어할 뿐만 아니라 증폭시킬 수 있는 능력까지 갖추게 만들어 준 것이다. 이에 따라 전력의 생산과 전송, 분배에 중점을 둔 전기 공학에서 벗어나 복잡한 신호 처리와 정보 전송을 다루는 전자 공학이라는 새로운 분야가 탄생했다. 이후 진공관은 장거리 전화 통신, 라디오 방송, 컴퓨터 발전에 있어 핵심적인 역할을 하며 한동안 전자 공학의 획기적인 발전을 주도했다.\\n\\n하지만 진공관은 수많은 공로에도 불구하고 전자 공학의 발전을 가로막는 치명적인 단점이 존재했다. 크기가 크고 무겁다는 점이었다. 이는 전자기기의 소형화에 제약을 주었으며, 높은 전압과 많은 전력이 필요해 에너지 효율이 매우 낮았다. 또한 작동 중 많은 열을 발생시켜 발열 문제를 일으켰을 뿐 아니라 수명이 짧고 유리로 만들어져 깨지기 쉽다는 물리적 취약성도 진공관이 가진 한계점이었다. 이러한 이유로 과학자들은 ‘작고 가벼우면서도 오래 사용할 수 있고, 전기도 적게 쓰면서 튼튼하기까지 한’ 새로운 증폭기를 개발해야만 했는데, 그때 떠오른 것이 바로 반도체였다.\\n\\n시간이 흐르면서 반도체는 물질에 대한 이론적 이해와 더불어 게르마늄과 실리콘 같은 고순도 반도체 재료의 생산 기술이 이전과 비교할 수 없을 정도로 발전해 있었다. 이러한 시대 흐름 속에서 1947년, 벨 연구소의 존 바딘, 월터 브래튼, 윌리엄 쇼클리가 게르마늄을 이용한 트랜지스터(Transistor) 개발에 성공하자 반도체는 전자 공학 발전의 새로운 주인공으로 급부상하게 된다.\\n\\n트랜지스터는 진공관보다 훨씬 작고 가벼워 전자기기의 소형화를 가능하게 했으며, 더 적은 전력으로 작동해 에너지 효율을 높이고 발열 문제도 크게 개선했다. 또한 게르마늄 내구성이 강한 재료적 특성으로 인해 전자 장비의 수명과 신뢰성도 크게 향상시켰다. 이로써 트랜지스터 발명 이후 전자 산업은 진공관 소자에서 반도체 소자로, 대대적으로 전환을 맞이하며 비약적인 발전을 이루게 된다.\\n\\n그러던 1950년대 중반 실리콘 트랜지스터가 개발되었고, 게르마늄 트랜지스터에 비해 온도 변화에 더 안정적이고 대량 생산에 더 유리했기 때문에 게르마늄 트랜지스터의 자리를 빠르게 대체하기 시작했다.\\n\\n집적회로(IC)의 탄생과 무어의 법칙\\n\\n한동안 트랜지스터가 진공관의 수많은 문제를 해결하긴 했지만, 또 다른 문제는 여전히 남아 있었다. 전자 회로는 트랜지스터, 저항, 다이오드, 캐패시터 등 여러 전자부품을 수작업으로 기판에 납땜해 연결하는 방식으로 만들어졌는데, 이러한 방식은 생산 시간이 매우 오래 걸렸다.\\n\\n게다가 자칫 연결 부위에 불량이라도 발생하면 전체 시스템이 동작하지 않는 문제가 발생했다. 하지만 이런 연결 부위는 전자제품의 기능이 늘어날수록 기하급수적으로 증가하는 특성이 있었기 때문에 과학자들은 또다시 돌파구를 찾아야 하는 시점에 놓였다.\\n\\n1950년대 후반, 마침내 잭 킬비와 로버트 노이스라는 두 과학자가 같은 시기에 비슷한 해결책을 떠올렸다. 약간의 차이는 있었지만 두 사람의 공통된 아이디어는 회로에 전자부품을 납땜으로 연결하는 것이 아니라 회로를 만들 때부터 기판과 부품을 하나로 통합하는 것이었다.\\n\\n이에 따라 수많은 전자부품을 반도체 칩 위에 일체화된 형태로 집적(集積)하는 ‘집적회로(Integrated Circuit, IC)’가 발명되었다. 그중에서도 노이스의 집적회로는 그의 동료 진 호에르니의 ‘평면 소자 공정 기술’과 결합해 3차원 입체 형태였던 전자부품들을 2차원 평면 형태로 회로에 구현할 수 있도록 만들었다. 이러한 방식은 수천 개 이상의 트랜지스터를 하나의 칩에 집적할 수 있도록 만들었고 전자 제품의 성능을 크게 향상시키면서 크기는 획기적으로 줄이는 결과를 낳았다.\\n\\n그렇게 1965년, 노이스의 또 다른 동료이자 함께 인텔(Intel)을 창업한 고든 무어는 ‘무어의 법칙’을 주장해 반도체 칩의 트랜지스터 수가 2년마다 두 배로 증가할 것이며 이로 인해 컴퓨팅 성능이 기하급수적으로 발전할 것이라고 예측했다. 무어의 예측은 사실이었다.\\n\\n이후 반도체 칩의 트랜지스터 밀도는 계속해서 높아졌고 1971년, 인텔이 출시한 첫 번째 마이크로프로세서 ‘Intel 4004’에 2,300개의 트랜지스터가 집적되어 있었던 반면, 2010년대 이후로 출시된 프로세서에는 무려 10억 개가 넘는 트랜지스터가 집적되기 시작했다.\\n\\n트랜지스터의 밀도가 높아짐에 따라 컴퓨터의 처리 속도는 이전과 비교할 수 없을 정도로 향상되었고 마침내 반도체 중심의 첨단 세상이 열리게 되었다.\\n\\n미세공정의 시대를 지나 초미세공정의 시대로\\n\\n무어의 법칙을 가능하게 만들었던 것은 공정 기술의 발전 덕분이었다.\\n\\n트랜지스터가 2차원 평면 속으로 들어간 이후, 더 많은 트랜지스터를 회로 안에 구현하기 위해 반도체 공정 기술은 계속해서 미세화되었다. 1970년대, 마이크로미터(μm) 단위에 진입한 미세공정은 1990년대에 이르자 나노미터(nm) 단위로까지 진입하기 시작했다.\\n\\n1나노미터는 기계를 이용한 물리적 공정으로는 절대 구현할 수 없는 머리카락 굵기의 10만 분의 1 수준에 불과한 두께지만, 빛을 이용해 마치 사진을 찍듯이 기판에 미세한 패턴을 새기는 포토리소그래피(Photolithography) 공정 덕분에 반도체 공정은 180nm, 90nm, 45nm, 22nm 수준으로 지속적으로 미세화될 수 있었다. 반도체 공정이 미세화됨에 따라 전자기기는 더욱 소형화되고 성능은 비약적으로 발전했다.\\n\\n하지만 미세화 수준이 점점 올라가 초미세 공정 수준에 이르자 미세공정은 점차 물리적 한계에 도달하기 시작했다. 같은 면적에 더 작은 트랜지스터를 더 많이 집적시키는 것이 미세공정의 핵심인데, 트랜지스터의 두께가 너무 얇아지고 트랜지스터들 사이의 거리가 가까워지자, 전자들이 트랜지스터의 얇은 벽을 통과해 누설되는 ‘양자 터널링’ 효과가 발생하기 시작한 것이다.\\n\\n이렇게 누설 전류가 발생하면 발열이 심해져 반도체의 성능이 감소하기 때문에, 반도체 기업들은 단순히 트랜지스터를 미세화하는 것을 넘어 새로운 돌파구를 찾기 시작했다.\\n\\n가장 먼저 도입된 해결책은 2차원 트랜지스터 구조를 일부 3차원으로 만드는 ‘핀펫(FinFET)’ 구조의 도입이었다. 트랜지스터는 ‘게이트(Gate)’에 전압이 가해지면 ‘채널(Channel)’을 통해 전류가 흐르는 구조로 되어 있는데 게이트와 채널이 닿는 면적이 늘어날수록 트랜지스터의 효율은 높아진다.\\n\\n핀펫 구조는 평면 상태의 채널을 입체적으로 만들어 채널과 채널을 감싸는 게이트가 닿는 면적을 1면에서 3면으로 늘려 트랜지스터의 성능을 향상시켰다. 2010년대, 핀펫으로 새로운 돌파구를 찾은 반도체 기업들은 핀펫 구조하에 추가적인 미세공정으로 반도체의 성능을 또 한 번 한계까지 끌어올렸지만, 초미세공정의 수준이 3nm와 2nm 단계에 이르자 핀펫 구조도 한계에 다다르기 시작했다.\\n\\n차세대 반도체 기술\\n\\n반도체 업계는 공정 미세화의 한계를 해결하기 위해 여러 가지 방향에서 대안을 찾고 있다. 그중 대표되는 차세대 반도체 기술들을 잠깐 살펴보도록 하자.\\n\\nGAA(Gate-All-Around) 구조\\n\\n신개념 트랜지스터 구조인 GAA 구조는 차세대 반도체 기술의 핵심 중 하나로 부상하고 있다. GAA 구조에서는 핀펫의 3면 접촉을 넘어 게이트가 모든 방향에서 트랜지스터의 채널을 감싸 채널 4면이 모두 게이트와 접촉하게 되어 트랜지스터의 효율을 더욱 높일 수 있게 만들어 준다.\\n\\nGAA는 3nm 이하 공정에서 필수적인 구조로, 2022년 삼성전자가 세계 최초로 GAA 기술을 적용한 3nm 파운드리 공정 기반의 양산을 시작했다.\\n\\n3D 적층 기술(3D Stacking)\\n\\n3D 적층 기술도 차세대 반도체 기술의 중요한 트렌드 중 하나다. 칩을 평면적으로 집적하는 기존의 방법과 달리, 3D 적층 기술은 칩을 수직으로 쌓아 올리는 방식으로 동일한 면적에 더 많은 트랜지스터를 집적할 수 있어 집적도를 극대화한다는 장점이 있다.\\n\\n신소재 개발\\n\\n신소재 개발도 차세대 반도체 기술 발전의 중요한 요소다. 게르마늄 반도체를 실리콘 반도체가 대체한 이후 오랜 시간 실리콘이 대표적인 반도체 소재로 사용되었지만, 이제는 실리콘이 물리적 한계에 도달했다는 것이 명확해지면서 새로운 반도체 소재에 대한 연구가 활발하게 진행되고 있다.\\n\\n신소재로는 그래핀, 탄화규소(SiC), 질화갈륨(GaN) 등이 떠오르고 있으며 더 높은 전력 효율, 더 낮은 발열, 그리고 더 빠른 전자 이동성을 제공한다는 점에서 이러한 신소재들이 고성능 반도체의 핵심 소재로 평가받고 있다.\\n\\n양자 컴퓨팅용 반도체\\n\\n양자 컴퓨팅은 기존의 디지털 컴퓨팅을 뛰어넘는 엄청난 계산 능력을 제공할 수 있는 기술로, 이를 실현하기 위한 반도체 소자의 개발이 활발히 진행 중이다.\\n\\n양자 컴퓨팅에서는 기존의 트랜지스터 대신 양자 비트(큐비트, Qubit)를 사용하는데, 이를 구현하기 위해 초전도체, 이온 트랩, 스핀트로닉스 등 다양한 기술이 연구되고 있다. 향후 이 기술들이 상용화된다면 인공지능, 암호 해독, 신약 개발 등 여러 분야에서 혁신을 가져올 수 있다.\\n\\n차세대 반도체 기술은 기존의 미세공정을 넘어서는 새로운 혁신을 통해 반도체 산업의 지속적인 발전을 가능하게 할 것이다. 이에 GAA 트랜지스터 구조, 3D 적층 기술, 양자 컴퓨팅용 반도체, 신소재 개발 등 다양한 기술들이 현재 반도체 성능을 한층 더 끌어올리고 있으며, 이러한 기술들은 인공지능, 자율주행, 통신, 의료 등 미래 기술 전반에 걸쳐 혁신을 촉진하는 데 중요한 역할을 할 것이다.\\n\\n※ 본 칼럼은 외부 필진의 견해로, 삼성전자 DS부문의 공식 입장과 다를 수 있습니다.\\n\\n지식 콘텐츠 크리에이터\\n\\n세상의모든지식\\n\\n작성글 모아보기\\n\\n관련태그\\n\\n#Behind the CHIP #BehindtheCHIP #비하인드 더 칩 #비하인드더칩 #반도체 역사 #세모지 #게르마늄 트랜지스터 #집적회로 #무어의 법칙 #초미세공정 #GAA\\n\\n삼성전자 반도체 소식 더 알아보기\\n\\n2024.11.22\\n\\n[반도체 테크 세미나] 반도체 혁신 사례 공유로 협력사와 동반 성장을 도모하다\\n\\n2024.11.06\\n\\n[Behind the CHIP] 카메라 없이 만드는 영상 제작의 시대, 생성형 AI가 이끄는 창작의 혁신\\n\\n2024.10.28\\n\\n[삼교시 탐구생활 Ep.17] 실시간 '완벽'한 성능 조절! 세상에서 가장 빠른 모바일 D램 'LPDDR5X'\\n\\n목록\\n\\n뉴스룸 소개\\n\\n운영정책\\n\\n개인정보처리방침\\n\\n이메일 문의\\n\\n삼성전자 뉴스룸\\n\\n삼성전자 반도체 웹사이트\\n\\n삼성전자 반도체 링크드인(영문)\\n\\n삼성전자 반도체 트위터(영문)\\n\\n© 2024. Samsung Electronics. All rights reserved.\\n\\n기간 설정\"),\n",
       " Document(metadata={'source': '차세대반도체.pdf', 'page': 0}, page_content='♧ Ctrl+F로 검색할 수 있습니다. ♧\\r\\n1 중앙대학교에서 개설되지 않은 과목도 수강가능한가요?\\r\\n→ 첨단분야 혁신융합대학은 7개 대학(중앙대 외 서울대, 숭실대, 포항공대, 강원대,\\r\\n대구대, 조선이공대)에서 교과목을 신청, 이수 가능하고 학점교류 형식으로 신청할\\r\\n수 있습니다.\\r\\n2 강원대나 포스텍같이 중앙대에서 먼 곳은 직접 가서 수업을 들어야 되나요?\\r\\n→ 지리적으로 먼 곳은 정규학기에는 대부분 줌(실시간)으로 수업을 합니다.\\r\\n서울대나 숭실대도 대부분 줌으로 수업을 하지만, 계절학기의 경우는 오프라인\\r\\n수업일 때도 있습니다. 학교별, 교수님별로 진행 방식이 다르니, 각 학기의 학교별\\r\\n학점교류 신청 공지사항 및 강의계획서를 참고해주시기 바랍니다. 강의에 대한\\r\\n문의는 담당대학 사무실에 직접 문의바랍니다.\\r\\n- 차세대반도체 컨소시엄 조직도 안내 (https://url.kr/ju6ndr)\\r\\n3 반도체와 연관이 없는 전공이라 화학, 물리, 소자 자식이 없는데 해당 과목 수강에 지장이\\r\\n없나요?\\r\\n→ 차세대반도체학과에서는 비전공자 및 비이공계 학생들 또한 수강할 수 있도록\\r\\n난이도별로 교과목이 구성되어 있습니다. 교양과목 및 초급난이도의 과목도\\r\\n개설됩니다.\\r\\n4 마이크로디그리와 다전공 학위가 무엇인가요?\\r\\n● 차세대반도체 융합대학 과정을 통해서 총 16개의 마이크로디그리(이수증)와 부전공,\\r\\n복수전공 학위를 취득할 수 있습니다.(연계전공 추가 진행 예정)\\r\\n→ 마이크로디그리란 기존 학위(4년 또는 2년) 제도와 달리 이수시간이나 학점\\r\\n단위로 이수 결과를 조합해서 학위를 취득하는 제도입니다. 차세대반도체학과에서'),\n",
       " Document(metadata={'source': '차세대반도체.pdf', 'page': 1}, page_content='개설된 과목으로 총 9학점을 이수하면 마이크로디그리 인증서 신청이 가능합니다.\\r\\n(폴라리스 홈페이지 공지사항 링크에서 상시접수, 주관대학 사업단장 명의). 또한\\r\\n중앙대학교에서는 마이크로디그리 이수증을 발급받은 후 학점 4.3 이상인 경우\\r\\n50만원, 3.8 이상인 경우 30만원의 장학금을 드립니다. (본인 직접 신청, 선정 대상\\r\\n등 사업단 내부 사정에 따라 변경될 수 있음, 학점 기준은 마이크로디그리 신청\\r\\n과목의 평균 평점으로 계산 *P/F 과목 제외)\\r\\n- 마이크로디그리 관련 공지사항 (https://han.gl/kkWVSm)\\r\\n- 성과형 장학금 관련 공지사항 (https://han.gl/LQUsEU)\\r\\n- 차세대반도체학과 교과목 안내\\r\\n(https://semicon.disu.ac.kr/academic/curriculum)\\r\\n→ 다전공 중에서 차세대반도체학과는 복수전공, 부전공 과정을 진행 중에\\r\\n있습니다. 다전공의 경우 다전공 신청을 하고 난 후 해당 이수학점이\\r\\n충족되면(복수전공 : 39학점, 부전공 : 21학점) 학위증에 해당 학위가 기재되어\\r\\n나갑니다.\\r\\n- 중앙대 홈페이지 다전공 설명 페이지 (https://han.gl/XdXFSj)\\r\\n- 차세대반도체학과 다전공 신청 관련 공지사항 (https://han.gl/lrOTlu)\\r\\n5 차세대반도체학과 과목명과 똑같은 과목명을 소속학과에서 이미 6학점을 들었을 경우,\\r\\n이번에 개설된 과목 중 1개의 과목만 추가로 이수하면 마이크로디그리를 받을 수 있나요?\\r\\n→ 안됩니다. 차세대반도체학과에서 개설된 과목으로 이수를 해야 인정됩니다.\\r\\n또한 동일한 과목을 차세대반도체학과에서 중복 수강할 수 없습니다.\\r\\n6 학위신청을 통해 차세대반도체학과 학생이 되면 어떤 혜택이 있을까요?\\r\\n→ 차세대반도체학과 학생들이 지정 요건을 만족하면 주전공 학위에 더하여\\r\\n마이크로디그리(이수증 발급 가능,정규 학위 과정 아님), 복수전공, 부전공 학위를\\r\\n받을 수 있습니다. 아울러, 2022학년부터 장학금 혜택 및 각종 연수 프로그램, 인턴,\\r\\n현장실습, 경진대회 등의 비교과 프로그램 참가 자격을 갖게 됩니다. 또한\\r\\n마이크로디그리는 취업 시 기재 가능한 것으로 보입니다.\\r\\n7 POLARIS는 무슨 의미인가요?\\r\\n→ POLARIS에는 중의적인 의미가 있습니다. 첫번째는 북극성(Polaris)을 찾을 때\\r\\n활용되는 북두칠성처럼 본 사업에 참여하는 7개 대학이 협력하여 대학생들이\\r\\n자신의 진로(Polaris)를 탐색할 때 올바른 길을 안내하는 길잡이 역할을 하고자\\r\\n합니다. 또한 차세대 반도체 혁신융합대학 사업단의 7대 전략인 Paradigm shift\\r\\n(발상의 전환) / Opportunity (기회) / Limitl→ss pot→ntial (무한한 잠재력) / Ap→x\\r\\n(최고) / R→lationship (관계) / Incr→as→ (확산) / Shar→ (공유)의 앞글자를 따서\\r\\nPOLARIS라고 명명하여 본 사업단의 별칭으로 사용됩니다.'),\n",
       " Document(metadata={'source': '차세대반도체.pdf', 'page': 2}, page_content='8 본 과정에서 학위 취득 제도만 있는 것인지요?\\r\\n→ 절대 아닙니다! 본 과정은 미래시대에 부족한 신기술분야의 “준비된 인재”를\\r\\n양성하는 것이 목표입니다. 이를 위하여 산업체와 긴밀히 교류하며 다양한 인턴\\r\\n경험을 쌓을 수 있는 많은 비교과 과정도 운영 될 예정이니 학생들의 많은 참여\\r\\n바랍니다.\\r\\n9 본 과정에 참여하는 학생에게 어떤 도움이 되나요?\\r\\n→ 첫째! 비전공자를 위한 신기술분야 수준별 모듈형 교육과정에 참여함으로써,\\r\\n차세대 반도체 관련 학위 취득이 가능합니다.\\r\\n둘째! 기업체 및 대학 연구실에서의 다양한 인턴 프로그램을 경험함으로써, 반도체\\r\\n관련 기업 취업이나 진학에 도움을 받을 수 있습니다.\\r\\n셋째! 반도체 공정 실습에 관심이 있는 학생의 경우 자격요건에 부합할 경우,\\r\\n중앙대학교 학생들에 한해 외부 공정실습 프로그램을 제공할 예정입니다. 또한\\r\\n서울대 반도체 공동 연구소 및 포항공대 나노 융합 기술원에서의 공정 실무 실습\\r\\n기회를 얻을 수 있습니다.\\r\\n(신청자가 많을 경우 반도체 공정 장비 여건상 선착순으로 교육 기회를 제공하게\\r\\n됩니다.)\\r\\n10 차세대 반도체 혁신 융합대학 과정에 참가하고 싶으면 어떻게 하면 되나요?\\r\\n→ 학점교류의 경우 공지사항에 신청 시기에 맞춰 학교별 학점교류신청 안내 공지가\\r\\n올라옵니다. 공지사항 확인 후 메일 등 으로 신청서 제출하신 후 학번 부여받고\\r\\n수강신청 후 수강하시면 됩니다.\\r\\n→ 마이크로디그리 및 다전공 신청의 경우 4번 질문의 답변을 확인해주시기\\r\\n바랍니다.\\r\\n11 차세대 반도체 혁신 융합대학이란 무엇인가요?\\r\\n→ 산업체에서의 반도체 분야 인력 수요는 급증하고 있으나, 대학에서의 인력\\r\\n공급이 전반적으로 부족하여 신기술 혁신 인재 양성이 시급하게 되었습니다.\\r\\n따라서 전공에 관계없이, 반도체 관련 인재로 성장하고 싶은 7개 대학 희망 학생\\r\\n누구나 반도체 교육과정을 이수할 수 있도록 학생 선택권을 확대하기 위한 교육\\r\\n제도로 “혁신융합대학” 과정이 시작되었습니다.\\r\\n12 학부인턴 프로그램은 무엇인가요?'),\n",
       " Document(metadata={'source': '차세대반도체.pdf', 'page': 3}, page_content='→ 중앙대학교에서는 2023년 겨울학기 학부생 연구 인턴 프로그램을 개설할\\r\\n예정입니다. 또한 서울대학교와 포스텍에서도 학부인턴 프로그램을 개최합니다.\\r\\n반도체, 인공지능과 관련된 프로그램이 열리고, 기회가 된다면 논문도 작성할 수\\r\\n있는 좋은 프로그램입니다. 대학원에 관심이 있는 분들은 교수님들과도 인연이 될\\r\\n수 있는 기회로 좋은 길이 될 수 있습니다.\\r\\n13 8차학기 (졸업예정) 인 학생도 복수전공이 가능한가요?\\r\\n→ 불가능합니다. 전자전기공학부 학생 및 졸업예정 학기에는 복수전공 신청이\\r\\n불가능합니다.\\r\\n14 서울대 학점교류과정이 어떻게 되나요?\\r\\n→ 중앙대학교 차세대반도체학과에 특정 과목을 듣겠다는 서류(신청 공고시 양식\\r\\n제공)를 메일로 보낸 뒤, 학번 안내받고 서울대 수강신청 사이트에서 신청 시기에\\r\\n직접 선착순으로 수강 신청하는 형태입니다. 대신에 선착순으로 못잡으면,\\r\\n교수님께 따로 메일 넣으시면 융합대학 봐주셔서 나중에 추가신청으로\\r\\n받아주십니다.\\r\\n- 2023-2 서울대 학점교류 공지사항 (https://han.gl/DSxBIe)\\r\\n15 포스텍 학점교류과정이 어떻게 되나요?\\r\\n→ 중앙대학교 차세대반도체학과에 특정 과목을 듣겠다는 서류(신청 공고시 양식\\r\\n제공)를 메일로 보낸 뒤, 학번 안내받고 포항공대 수강신청 사이트에서 신청\\r\\n시기에 직접 수강 신청하는 형태입니다. 포항공대에서 자동으로 수강신청해주는\\r\\n학기도 있으나, 매학기 학점교류 공지사항에 정확히 기재되어 있으니 필히\\r\\n확인하고 학점교류 신청하시기 바랍니다.\\r\\n- 2023-2 포항공대 학점교류 공지사항 (https://han.gl/nyLXxw)\\r\\n16 계절학기 아직 복수전공 안 하는 상태여도 신청하고 나중에 변경 가능한가요??\\r\\n→ 가능합니다. 복수전공 신청 후, 자유선택이었던 과목들을 과목이수변경신청서를\\r\\n제출하여 전공선택 및 부전공, 복수전공으로 전환할 수 있습니다. 부전공 및\\r\\n복수전공으로 졸업하기 위해서는 필히 변경해야합니다.\\r\\n- 이수구분 변경 신청 관련 공지사항 (https://han.gl/zBZzno)\\r\\n17 차세대 반도체 혁신융합대학에서 진행하는 학부연구생 / 인턴은 지원자격이 어떻게\\r\\n되나요? 다전공자 한해서 하는건가요?'),\n",
       " Document(metadata={'source': '차세대반도체.pdf', 'page': 4}, page_content='→ 특별한 지원자격은 없습니다. 다전공하지 않아도 참여가능합니다만, 서울대\\r\\n학부연구 같은 경우에는 대부분 서울대에서 열리는 차세대반도체학과 수업\\r\\n교수님들이라, 수업 때 교수님과 친해지면서 자연스럽게 학부연구하는 경우가\\r\\n있습니다. 물론 전혀 얼굴을 몰라도 자기소개를 잘하면 붙을 순 있습니다. 포스텍\\r\\n학부연구생도 마찬가지입니다.\\r\\n18 전공선택-기초반도체물리를 1학기에 수강했고, 부전공을 하는 중인데 보관성적에서는\\r\\n자유선택이라고 떠서요. 오류인 걸까요?\\r\\n→ 다전공을 신청하지 않은 학생들의 경우, 전공선택 과목을 수강해도\\r\\n자유선택으로 이수됩니다. 부전공으로 이수구분 변경 신청서를 작성하여 제출해야\\r\\n합니다.\\r\\n- 이수구분 변경 신청 관련 공지사항 (https://han.gl/zBZzno)\\r\\n19 강원대와 포항공대, 서울대는 성적을 어떻게 주나요?\\r\\n→ 강원대는 중앙대와 마찬가지로 4.5점 만점, A+, A, B+, B … 으로 부여합니다.\\r\\n서울대학교와 포항공과대학교는 4.3점 만점, A+, A0, A-, B+, B0, B- … 으로\\r\\n부여합니다.\\r\\n서울대학교와 포항공과대학교에서 해당 점수를 받을 경우 중앙대학교에서는\\r\\n다음과 같은 점수로 변경되어 성적이 등록됩니다.\\r\\n서울대/포항공대 중앙대학교\\r\\nA+ A+\\r\\nA0 A+\\r\\nA- A\\r\\nB+ B+\\r\\nB0 B+\\r\\nB- B\\r\\n20 1학년도 수강할 수 있나요?\\r\\n→ 당연히 가능합니다.'),\n",
       " Document(metadata={'source': '차세대반도체.pdf', 'page': 5}, page_content='21 학점교류를 하게된다면 성적산출이 어떻게 되는지 궁금합니다. 만약 서울대 과목을\\r\\n수강하게 되면 중앙대 학생끼리 경쟁해서 학점산출이 되는건지 궁금합니다.\\r\\n→ 수업에 참여하는 학생들 안에서 학교구분 없이 똑같이 성적부여합니다. 대신\\r\\n성적이 좀 후한 수업이 많은 편입니다.\\r\\n22 혹시 학점교류는 한학기에 9학점까지 가능하다는게 저희학교에서 열리는 강의는 당연히\\r\\n미포함인거죠?\\r\\n→ 학점교류의 경우 타학교에서 수강하는 학점교류를 의미합니다. 9학점 제한없이\\r\\n수강을 원하는 경우 매학기 학점교류 신청 기간에 공지하는 취득학점 제한 완화\\r\\n신청서를 제출하시면 됩니다. 취득학점 제한 완화를 해도 본인 최대 수강학점(19\\r\\n혹은 20) 을 초과할 수 없습니다.\\r\\n- 취득학점 제한 완화 공지사항 (https://han.gl/FPmdHJ)\\r\\n23 복수전공 결과가 7/19에 나오는 것으로 알고 있는데, 그 전에 그러면 서울대 학점 교류는\\r\\n미리 신청해도 괜찮은걸까요?\\r\\n→ 복수전공/부전공 상태가 아니어도 학점교류신청을 할 수 있고 수업을 들을 수\\r\\n있습니다. 이후 다전공 신청을 하지 않는다면, 자유선택으로 남게 되고, 다전공\\r\\n신청을 하게 되면 복수전공/부전공으로 이수구분 변경을 할 수 있습니다.\\r\\n다전공 신청을 한 후에 복수전공/부전공이 아닌 전공선택으로 이수하고 싶은\\r\\n경우는 전공선택으로 이수구분 변경 신청하시면 됩니다.\\r\\n- 이수구분 변경 신청 관련 공지사항 (https://han.gl/zBZzno)\\r\\n24 성과형 장학금 신청이 재 신청 가능한가요?\\r\\n→ 재신청 가능합니다. 서로 다른 마이크로디그리에 대해서 신청 가능합니다.\\r\\n25 수업 방식이 오프라인 으로 기재되어 있는 과목은 타대생이여도 반드시 대면으로만\\r\\n수강해야하나요?\\r\\n→ 서울대 수업이 보통 대면으로 열리게 되면 타대생도 대면으로 듣습니다.\\r\\n5511타고 301동까지 30분정도 걸립니다. 하지만 정확한 사항은 강의계획서에 있는\\r\\n교수님 메일로 문의하면 좋을 것 같습니다. 강원대의 경우에도 시험만 대면이면\\r\\n시험때만 실제로 강원대로 가야할 수 있습니다. 이것도 마찬가지로 수업 교수님께\\r\\n확인해보시는게 확실할 것 같습니다. (수업 관련 문의는 해당 대학 사업단 사무실\\r\\n혹은 교수님께 문의하시기 바랍니다.)'),\n",
       " Document(metadata={'source': '차세대반도체.pdf', 'page': 6}, page_content='26 8차 학기(막학기) 학점교류가 불가능해서 다전공 학점을 채울 수가 없습니다. 어떻게\\r\\n해야합니까?\\r\\n→ 본교는 졸업예정자(8차학기)의 학점교류가 불가함에 따라, 불가피하게\\r\\n추가학기를 통해 상대교의 개설과목을 수강해야 하는 경우 추가학기 등록 서약서를\\r\\n제출하여 8차학기 학점교류를 할 수 있습니다. 위와 관련하여 대상자는 학점교류\\r\\n신청서 제출 시, 붙임의 추가학기 등록 서약서를 작성하여 함께 제출하여 주시기\\r\\n바랍니다.\\r\\n추가학기 등록 서약서를 제출하고 추가학기를 등록하지 않을 경우, 졸업이\\r\\n불가함을 안내드립니다.\\r\\n7학기와 졸업 직전의 계절학기를 통하여 학점교류 신청을 하시기 바랍니다.\\r\\n- 추가학기 등록 서약서 관련 공지사항 (https://han.gl/DviSLm)\\r\\n27 이번 여름학기에 서울대학교에서 학점교류 수업을 들었는데 중앙대학교 성적으로\\r\\n이관은 자동으로 되는건가요? 아니면 제가 따로 해야하는 절차가 있는지 궁금합니다\\r\\n→ 자동으로 이관됩니다. 이관에는 다소 시간이 걸립니다.(모든 학교 성적 처리가\\r\\n끝난 후 절차 진행) 예를 들어 1학기 과목의 경우 8월 초 쯤 이관이 됩니다.\\r\\n28 중앙대 이번 학기 제한 학점이 20학점인데, 여기에 중앙대에서 듣는 수업만 해당인지\\r\\n학점교류까지 포함해서 20학점인지 질문드려도 괜찮을까요? 예를 들어 서울대에서 6학점\\r\\n듣고, 중앙대에서 16학점 듣고 이런식으로 해서 총 22학점 듣는것도 가능한가요?\\r\\n→ 학점 교류하는 과목의 학점까지 포함하여 19 혹은 20학점을 초과하여 수강할 수\\r\\n없습니다.\\r\\n29 중앙대학교 성적장학금을 받는 조건이 궁금합니다.\\r\\n→ 타대학에서 학점교류한 과목의 학점을 제외하고, 중앙대학교에서 이수한 과목이\\r\\n16학점 이상이어야 장학금을 받을 수 있습니다. 이 점 유의하시기 바랍니다. 자세한\\r\\n내용은 학교 장학안내 페이지를 필히 확인바랍니다.\\r\\n- 중앙대학교 장학 안내 페이지 (https://han.gl/VtSeHS)\\r\\n30. 학점이월제 가능한가요?\\r\\n→ 불가능합니다. 학점 이월제의 경우(직전 학기 4.0 또는 지난 학기 이월 학점\\r\\n등)에도 학사 운영 규정 제17조에 의하여 불가능합니다. 이런 내용은 매학기\\r\\n중앙대학교 수강 신청 공지 관련 파일(PDF)에도 기재되어 있습니다.'),\n",
       " Document(metadata={'source': '차세대반도체.pdf', 'page': 7}, page_content='31. 정규단 학생에게 물어볼 것 : 수업 시작 전 학생들에게 COSS HUB LMS 공지가 어떻게\\r\\n되는지, 학생들이 직접 신청하는 과정이 궁금\\r\\n32. 학번을 받고 수강신청을 하지 않은 경우 혹은 수강신청 후 드랍하고 싶은 경우 어떻게\\r\\n하면 되나요?\\r\\n→ 각 대학 수강 정정 혹은 수강 취소 기간을 확인 후 아래의 방법으로 취소\\r\\n신청하시면 됩니다.\\r\\n1. 중앙대학교 차세대반도체학과 메일로 취소사유서 제출\\r\\n2. 수강신청을 했을 경우, 해당 과목 수강 취소\\r\\n- 학점교류 신청 취소 안내 공지사항 (https://lrl.kr/fjUb)')]"
      ]
     },
     "execution_count": 41,
     "metadata": {},
     "output_type": "execute_result"
    }
   ],
   "source": [
    "docs"
   ]
  },
  {
   "cell_type": "code",
   "execution_count": 6,
   "metadata": {},
   "outputs": [
    {
     "data": {
      "text/plain": [
       "['삼성반도체이야기는 더 이상 Internet Explorer를 지원하지 않습니다. 최적의 환경을 위해 다른 웹브라우저 사용을 권장합니다.',\n",
       " 'ENG',\n",
       " '기술 >',\n",
       " '반도체+',\n",
       " '[Behind the CHIP] 반도체, 그 성장의 기록: 과거, 현재, 그리고 미래',\n",
       " '[Behind the CHIP] 반도체, 그 성장의 기록: 과거, 현재, 그리고 미래',\n",
       " '2024.11.20',\n",
       " 'by.세상의모든지식',\n",
       " '페이스북',\n",
       " '트위터',\n",
       " '카카오톡',\n",
       " '이메일',\n",
       " '반도체는 전기가 통하는 도체와 전기가 통하지 않는 부도체, 두 가지의 성질을 임의로 조절할 수 있는 물질로, 전자 신호를 제어하고 처리하는 데 필수적인 역할을 한다. 이러한 특성 덕분에 스마트폰부터 컴퓨터, 자동차 부품까지 반도체는 현대 전자 산업의 핵심이 되며, 오늘날 우리가 사용하는 대부분의 전자 장치의 근간을 이루고 있다.',\n",
       " '반도체 기술 수준이 국가 경쟁력의 척도가 될 만큼 그 중요성이 급부상하고 있는 요즘, 반도체 기술이 어디서부터 시작해 현재 첨단 반도체 기술로까지 발전할 수 있었는지 반도체의 역사와 현주소, 그리고 앞으로의 전망에 대해 알아보도록 하자.',\n",
       " '역사의 시작, 최초의 반도체 발견',\n",
       " '1833년, 영국의 저명한 과학자 ‘마이클 패러데이’는 비금속 물질의 전기 전도성을 연구하다가 황화은(Ag₂S)의 독특한 전기적 특성을 발견했다. 당시 패러데이는 ‘전기와 자기의 관계’에 대한 실험을 진행하고 있었으며, 특히 전기 전도에 대한 실험을 통해 물질의 전기 전도성을 조사하고 있었다.',\n",
       " '그는 금속과 비금속 재료를 포함한 다양한 물질의 전도성을 비교하며, 전도성 고체에 전류를 흐르게 하는 실험 과정에서 금속은 온도가 올라가면 저항이 증가하는 반면, 황화은과 같은 비금속 재료는 온도가 올라가도 전류가 지속적으로 흐른다는 점을 발견했다.',\n",
       " '해당 연구는 추후 반도체의 개념으로 발전하게 되는 중요한 발견이 되었으며, 패러데이는 이를 통해 금속과 비금속이 전류를 전도하는 방식에 차이가 있음을 밝히게 되었다. 이 발견은 전기화학 및 전자기학 분야의 발전에 크게 기여했고, 다양한 전기적 현상을 이해하는 데 중요한 기초를 제공했다. 하지만 당시에는 ‘반도체’라는 용어조차 없었고, 반도체의 성질을 실용적으로 활용하기에는 과학적 지식이 부족한 시기였기 때문에 반도체 연구는 이후 40년 동안 이렇다 할 진전을 보이지 못한 채 정체기를 겪게 된다.',\n",
       " '그러던 1874년, 독일 물리학자 ‘카를 페르디난트 브라운’이 황화납(PbS)과 같은 반도체 물질에 금속 핀을 접촉했을 때, ‘*정류 작용’이 발생한다는 것을 발견하면서 상황은 달라졌다. 즉, 반도체를 활용해 전류의 흐름을 제어할 수 있게 된 것이다. 브라운의 발견은 교류 전류를 직류 전류로 전환하는 기능을 수행하는 ‘점 접촉 다이오드(Point contact diode)’의 개발로 이어졌고, 전자기기에서 특정한 목적을 위해 반도체를 사용할 수 있다는 사실이 처음으로 입증되었다.',\n",
       " '정류 작용: 전류가 한 방향으로만 흐르는 현상. 전류는 일반적으로 양방향으로 흐르지만, 정류작용을 이용하면 전류를 한 방향으로 흐르게 만들 수 있다.',\n",
       " '그러나, 반도체 재료의 정제 기술이나 대량 생산 기술이 충분히 발전하지 못한 상황에서 1904년, 영국 물리학자 ‘존 플레밍’이 ‘진공관 다이오드(=2극 진공관)’를 발명했고, 반도체 다이오드보다 진공관 다이오드가 더 안정적인 정류 성능을 제공하면서 초기 전자 산업의 발전에 있어 반도체는 그다지 주목받지 못한 채 진공관에게 잠시 자리를 내주게 되었다.',\n",
       " '진공관의 한계와 트랜지스터의 탄생',\n",
       " '1907년, 미국의 발명가 ‘리 디포리스트’는 진공관 다이오드에 금속망(Grid)을 추가해 정류 기능에 증폭 기능까지 갖춘 ‘3극 진공관’을 발명했다. 인류가 전기 신호를 제어할 뿐만 아니라 증폭시킬 수 있는 능력까지 갖추게 만들어 준 것이다. 이에 따라 전력의 생산과 전송, 분배에 중점을 둔 전기 공학에서 벗어나 복잡한 신호 처리와 정보 전송을 다루는 전자 공학이라는 새로운 분야가 탄생했다. 이후 진공관은 장거리 전화 통신, 라디오 방송, 컴퓨터 발전에 있어 핵심적인 역할을 하며 한동안 전자 공학의 획기적인 발전을 주도했다.',\n",
       " '하지만 진공관은 수많은 공로에도 불구하고 전자 공학의 발전을 가로막는 치명적인 단점이 존재했다. 크기가 크고 무겁다는 점이었다. 이는 전자기기의 소형화에 제약을 주었으며, 높은 전압과 많은 전력이 필요해 에너지 효율이 매우 낮았다. 또한 작동 중 많은 열을 발생시켜 발열 문제를 일으켰을 뿐 아니라 수명이 짧고 유리로 만들어져 깨지기 쉽다는 물리적 취약성도 진공관이 가진 한계점이었다. 이러한 이유로 과학자들은 ‘작고 가벼우면서도 오래 사용할 수 있고, 전기도 적게 쓰면서 튼튼하기까지 한’ 새로운 증폭기를 개발해야만 했는데, 그때 떠오른 것이 바로 반도체였다.',\n",
       " '시간이 흐르면서 반도체는 물질에 대한 이론적 이해와 더불어 게르마늄과 실리콘 같은 고순도 반도체 재료의 생산 기술이 이전과 비교할 수 없을 정도로 발전해 있었다. 이러한 시대 흐름 속에서 1947년, 벨 연구소의 존 바딘, 월터 브래튼, 윌리엄 쇼클리가 게르마늄을 이용한 트랜지스터(Transistor) 개발에 성공하자 반도체는 전자 공학 발전의 새로운 주인공으로 급부상하게 된다.',\n",
       " '트랜지스터는 진공관보다 훨씬 작고 가벼워 전자기기의 소형화를 가능하게 했으며, 더 적은 전력으로 작동해 에너지 효율을 높이고 발열 문제도 크게 개선했다. 또한 게르마늄 내구성이 강한 재료적 특성으로 인해 전자 장비의 수명과 신뢰성도 크게 향상시켰다. 이로써 트랜지스터 발명 이후 전자 산업은 진공관 소자에서 반도체 소자로, 대대적으로 전환을 맞이하며 비약적인 발전을 이루게 된다.',\n",
       " '그러던 1950년대 중반 실리콘 트랜지스터가 개발되었고, 게르마늄 트랜지스터에 비해 온도 변화에 더 안정적이고 대량 생산에 더 유리했기 때문에 게르마늄 트랜지스터의 자리를 빠르게 대체하기 시작했다.',\n",
       " '집적회로(IC)의 탄생과 무어의 법칙',\n",
       " '한동안 트랜지스터가 진공관의 수많은 문제를 해결하긴 했지만, 또 다른 문제는 여전히 남아 있었다. 전자 회로는 트랜지스터, 저항, 다이오드, 캐패시터 등 여러 전자부품을 수작업으로 기판에 납땜해 연결하는 방식으로 만들어졌는데, 이러한 방식은 생산 시간이 매우 오래 걸렸다.',\n",
       " '게다가 자칫 연결 부위에 불량이라도 발생하면 전체 시스템이 동작하지 않는 문제가 발생했다. 하지만 이런 연결 부위는 전자제품의 기능이 늘어날수록 기하급수적으로 증가하는 특성이 있었기 때문에 과학자들은 또다시 돌파구를 찾아야 하는 시점에 놓였다.',\n",
       " '1950년대 후반, 마침내 잭 킬비와 로버트 노이스라는 두 과학자가 같은 시기에 비슷한 해결책을 떠올렸다. 약간의 차이는 있었지만 두 사람의 공통된 아이디어는 회로에 전자부품을 납땜으로 연결하는 것이 아니라 회로를 만들 때부터 기판과 부품을 하나로 통합하는 것이었다.',\n",
       " '이에 따라 수많은 전자부품을 반도체 칩 위에 일체화된 형태로 집적(集積)하는 ‘집적회로(Integrated Circuit, IC)’가 발명되었다. 그중에서도 노이스의 집적회로는 그의 동료 진 호에르니의 ‘평면 소자 공정 기술’과 결합해 3차원 입체 형태였던 전자부품들을 2차원 평면 형태로 회로에 구현할 수 있도록 만들었다. 이러한 방식은 수천 개 이상의 트랜지스터를 하나의 칩에 집적할 수 있도록 만들었고 전자 제품의 성능을 크게 향상시키면서 크기는 획기적으로 줄이는 결과를 낳았다.',\n",
       " '그렇게 1965년, 노이스의 또 다른 동료이자 함께 인텔(Intel)을 창업한 고든 무어는 ‘무어의 법칙’을 주장해 반도체 칩의 트랜지스터 수가 2년마다 두 배로 증가할 것이며 이로 인해 컴퓨팅 성능이 기하급수적으로 발전할 것이라고 예측했다. 무어의 예측은 사실이었다.',\n",
       " '이후 반도체 칩의 트랜지스터 밀도는 계속해서 높아졌고 1971년, 인텔이 출시한 첫 번째 마이크로프로세서 ‘Intel 4004’에 2,300개의 트랜지스터가 집적되어 있었던 반면, 2010년대 이후로 출시된 프로세서에는 무려 10억 개가 넘는 트랜지스터가 집적되기 시작했다.',\n",
       " '트랜지스터의 밀도가 높아짐에 따라 컴퓨터의 처리 속도는 이전과 비교할 수 없을 정도로 향상되었고 마침내 반도체 중심의 첨단 세상이 열리게 되었다.',\n",
       " '미세공정의 시대를 지나 초미세공정의 시대로',\n",
       " '무어의 법칙을 가능하게 만들었던 것은 공정 기술의 발전 덕분이었다.',\n",
       " '트랜지스터가 2차원 평면 속으로 들어간 이후, 더 많은 트랜지스터를 회로 안에 구현하기 위해 반도체 공정 기술은 계속해서 미세화되었다. 1970년대, 마이크로미터(μm) 단위에 진입한 미세공정은 1990년대에 이르자 나노미터(nm) 단위로까지 진입하기 시작했다.',\n",
       " '1나노미터는 기계를 이용한 물리적 공정으로는 절대 구현할 수 없는 머리카락 굵기의 10만 분의 1 수준에 불과한 두께지만, 빛을 이용해 마치 사진을 찍듯이 기판에 미세한 패턴을 새기는 포토리소그래피(Photolithography) 공정 덕분에 반도체 공정은 180nm, 90nm, 45nm, 22nm 수준으로 지속적으로 미세화될 수 있었다. 반도체 공정이 미세화됨에 따라 전자기기는 더욱 소형화되고 성능은 비약적으로 발전했다.',\n",
       " '하지만 미세화 수준이 점점 올라가 초미세 공정 수준에 이르자 미세공정은 점차 물리적 한계에 도달하기 시작했다. 같은 면적에 더 작은 트랜지스터를 더 많이 집적시키는 것이 미세공정의 핵심인데, 트랜지스터의 두께가 너무 얇아지고 트랜지스터들 사이의 거리가 가까워지자, 전자들이 트랜지스터의 얇은 벽을 통과해 누설되는 ‘양자 터널링’ 효과가 발생하기 시작한 것이다.',\n",
       " '이렇게 누설 전류가 발생하면 발열이 심해져 반도체의 성능이 감소하기 때문에, 반도체 기업들은 단순히 트랜지스터를 미세화하는 것을 넘어 새로운 돌파구를 찾기 시작했다.',\n",
       " '가장 먼저 도입된 해결책은 2차원 트랜지스터 구조를 일부 3차원으로 만드는 ‘핀펫(FinFET)’ 구조의 도입이었다. 트랜지스터는 ‘게이트(Gate)’에 전압이 가해지면 ‘채널(Channel)’을 통해 전류가 흐르는 구조로 되어 있는데 게이트와 채널이 닿는 면적이 늘어날수록 트랜지스터의 효율은 높아진다.',\n",
       " '핀펫 구조는 평면 상태의 채널을 입체적으로 만들어 채널과 채널을 감싸는 게이트가 닿는 면적을 1면에서 3면으로 늘려 트랜지스터의 성능을 향상시켰다. 2010년대, 핀펫으로 새로운 돌파구를 찾은 반도체 기업들은 핀펫 구조하에 추가적인 미세공정으로 반도체의 성능을 또 한 번 한계까지 끌어올렸지만, 초미세공정의 수준이 3nm와 2nm 단계에 이르자 핀펫 구조도 한계에 다다르기 시작했다.',\n",
       " '차세대 반도체 기술',\n",
       " '반도체 업계는 공정 미세화의 한계를 해결하기 위해 여러 가지 방향에서 대안을 찾고 있다. 그중 대표되는 차세대 반도체 기술들을 잠깐 살펴보도록 하자.',\n",
       " 'GAA(Gate-All-Around) 구조',\n",
       " '신개념 트랜지스터 구조인 GAA 구조는 차세대 반도체 기술의 핵심 중 하나로 부상하고 있다. GAA 구조에서는 핀펫의 3면 접촉을 넘어 게이트가 모든 방향에서 트랜지스터의 채널을 감싸 채널 4면이 모두 게이트와 접촉하게 되어 트랜지스터의 효율을 더욱 높일 수 있게 만들어 준다.',\n",
       " 'GAA는 3nm 이하 공정에서 필수적인 구조로, 2022년 삼성전자가 세계 최초로 GAA 기술을 적용한 3nm 파운드리 공정 기반의 양산을 시작했다.',\n",
       " '3D 적층 기술(3D Stacking)',\n",
       " '3D 적층 기술도 차세대 반도체 기술의 중요한 트렌드 중 하나다. 칩을 평면적으로 집적하는 기존의 방법과 달리, 3D 적층 기술은 칩을 수직으로 쌓아 올리는 방식으로 동일한 면적에 더 많은 트랜지스터를 집적할 수 있어 집적도를 극대화한다는 장점이 있다.',\n",
       " '신소재 개발',\n",
       " '신소재 개발도 차세대 반도체 기술 발전의 중요한 요소다. 게르마늄 반도체를 실리콘 반도체가 대체한 이후 오랜 시간 실리콘이 대표적인 반도체 소재로 사용되었지만, 이제는 실리콘이 물리적 한계에 도달했다는 것이 명확해지면서 새로운 반도체 소재에 대한 연구가 활발하게 진행되고 있다.',\n",
       " '신소재로는 그래핀, 탄화규소(SiC), 질화갈륨(GaN) 등이 떠오르고 있으며 더 높은 전력 효율, 더 낮은 발열, 그리고 더 빠른 전자 이동성을 제공한다는 점에서 이러한 신소재들이 고성능 반도체의 핵심 소재로 평가받고 있다.',\n",
       " '양자 컴퓨팅용 반도체',\n",
       " '양자 컴퓨팅은 기존의 디지털 컴퓨팅을 뛰어넘는 엄청난 계산 능력을 제공할 수 있는 기술로, 이를 실현하기 위한 반도체 소자의 개발이 활발히 진행 중이다.',\n",
       " '양자 컴퓨팅에서는 기존의 트랜지스터 대신 양자 비트(큐비트, Qubit)를 사용하는데, 이를 구현하기 위해 초전도체, 이온 트랩, 스핀트로닉스 등 다양한 기술이 연구되고 있다. 향후 이 기술들이 상용화된다면 인공지능, 암호 해독, 신약 개발 등 여러 분야에서 혁신을 가져올 수 있다.',\n",
       " '차세대 반도체 기술은 기존의 미세공정을 넘어서는 새로운 혁신을 통해 반도체 산업의 지속적인 발전을 가능하게 할 것이다. 이에 GAA 트랜지스터 구조, 3D 적층 기술, 양자 컴퓨팅용 반도체, 신소재 개발 등 다양한 기술들이 현재 반도체 성능을 한층 더 끌어올리고 있으며, 이러한 기술들은 인공지능, 자율주행, 통신, 의료 등 미래 기술 전반에 걸쳐 혁신을 촉진하는 데 중요한 역할을 할 것이다.',\n",
       " '※ 본 칼럼은 외부 필진의 견해로, 삼성전자 DS부문의 공식 입장과 다를 수 있습니다.',\n",
       " '지식 콘텐츠 크리에이터',\n",
       " '세상의모든지식',\n",
       " '작성글 모아보기',\n",
       " '관련태그',\n",
       " '#Behind the CHIP #BehindtheCHIP #비하인드 더 칩 #비하인드더칩 #반도체 역사 #세모지 #게르마늄 트랜지스터 #집적회로 #무어의 법칙 #초미세공정 #GAA',\n",
       " '삼성전자 반도체 소식 더 알아보기',\n",
       " '2024.11.22',\n",
       " '[반도체 테크 세미나] 반도체 혁신 사례 공유로 협력사와 동반 성장을 도모하다',\n",
       " '2024.11.06',\n",
       " '[Behind the CHIP] 카메라 없이 만드는 영상 제작의 시대, 생성형 AI가 이끄는 창작의 혁신',\n",
       " '2024.10.28',\n",
       " \"[삼교시 탐구생활 Ep.17] 실시간 '완벽'한 성능 조절! 세상에서 가장 빠른 모바일 D램 'LPDDR5X'\",\n",
       " '목록',\n",
       " '뉴스룸 소개',\n",
       " '운영정책',\n",
       " '개인정보처리방침',\n",
       " '이메일 문의',\n",
       " '삼성전자 뉴스룸',\n",
       " '삼성전자 반도체 웹사이트',\n",
       " '삼성전자 반도체 링크드인(영문)',\n",
       " '삼성전자 반도체 트위터(영문)',\n",
       " '© 2024. Samsung Electronics. All rights reserved.',\n",
       " '기간 설정']"
      ]
     },
     "execution_count": 6,
     "metadata": {},
     "output_type": "execute_result"
    }
   ],
   "source": [
    "contents = [doc.page_content for doc in docs]\n",
    "all_toc = [c.split(\"→\")[-1].split(\"\\n\\n\")[1:] for c in contents]\n",
    "all_toc[0]"
   ]
  },
  {
   "cell_type": "code",
   "execution_count": 44,
   "metadata": {},
   "outputs": [],
   "source": [
    "from langchain.text_splitter import RecursiveCharacterTextSplitter\n",
    "\n",
    "# 이미 docs = docs + pages 로 문서가 합쳐져 있다는 가정 하에\n",
    "# 1. TextSplitter 설정: chunk_size, chunk_overlap, 길이 판단 함수 등\n",
    "text_splitter = RecursiveCharacterTextSplitter(\n",
    "    chunk_size=200,      # 청크 하나의 최대 문자 수\n",
    "    chunk_overlap=40,    # 청크 간 겹치는 문자 수 (필요시 조정)\n",
    "    length_function=len,  # 길이 측정 함수\n",
    ")\n",
    "\n",
    "# 2. 청크 생성\n",
    "chunked_docs = text_splitter.split_documents(docs)"
   ]
  },
  {
   "cell_type": "code",
   "execution_count": 45,
   "metadata": {},
   "outputs": [
    {
     "name": "stderr",
     "output_type": "stream",
     "text": [
      "huggingface/tokenizers: The current process just got forked, after parallelism has already been used. Disabling parallelism to avoid deadlocks...\n",
      "To disable this warning, you can either:\n",
      "\t- Avoid using `tokenizers` before the fork if possible\n",
      "\t- Explicitly set the environment variable TOKENIZERS_PARALLELISM=(true | false)\n"
     ]
    },
    {
     "name": "stdout",
     "output_type": "stream",
     "text": [
      "저장된 벡터의 개수: 115\n"
     ]
    }
   ],
   "source": [
    "from langchain.embeddings.huggingface import HuggingFaceEmbeddings\n",
    "from langchain.vectorstores import FAISS\n",
    "from langchain_community.vectorstores.utils import DistanceStrategy\n",
    "\n",
    "embedding_model_name = \"snunlp/KR-SBERT-V40K-klueNLI-augSTS\"\n",
    "embedding_model = HuggingFaceEmbeddings(\n",
    "    model_name=embedding_model_name,\n",
    "    encode_kwargs={\"normalize_embeddings\": True},\n",
    ")\n",
    "vectorstore = FAISS.from_documents(\n",
    "    documents=chunked_docs, embedding=embedding_model, distance_strategy=DistanceStrategy.EUCLIDEAN_DISTANCE\n",
    ")\n",
    "\n",
    "vector_count = vectorstore.index.ntotal\n",
    "print(f\"저장된 벡터의 개수: {vector_count}\")"
   ]
  },
  {
   "cell_type": "code",
   "execution_count": 46,
   "metadata": {},
   "outputs": [],
   "source": [
    "user_query = \"진공관 다이오드는 누가 발명했지?\"\n",
    "query_vector = embedding_model.embed_query(user_query)"
   ]
  },
  {
   "cell_type": "code",
   "execution_count": 47,
   "metadata": {},
   "outputs": [
    {
     "name": "stdout",
     "output_type": "stream",
     "text": [
      "임베딩 차원 수: 768\n"
     ]
    }
   ],
   "source": [
    "print(f\"임베딩 차원 수: {len(query_vector)}\")"
   ]
  },
  {
   "cell_type": "code",
   "execution_count": 12,
   "metadata": {},
   "outputs": [
    {
     "name": "stderr",
     "output_type": "stream",
     "text": [
      "/home/kyudan/anaconda3/envs/RAG/lib/python3.10/site-packages/numba/np/ufunc/parallel.py:371: NumbaWarning: The TBB threading layer requires TBB version 2021 update 6 or later i.e., TBB_INTERFACE_VERSION >= 12060. Found TBB_INTERFACE_VERSION = 12050. The TBB threading layer is disabled.\n",
      "  warnings.warn(problem)\n",
      "Warning: random state is set to 133.\n"
     ]
    }
   ],
   "source": [
    "import pacmap\n",
    "import numpy as np\n",
    "import plotly.express as px\n",
    "\n",
    "embedding_projector = pacmap.PaCMAP(n_components=2, n_neighbors=None, MN_ratio=0.5, FP_ratio=2.0, random_state=133)\n",
    "\n",
    "embeddings_2d = [list(vectorstore.index.reconstruct_n(idx, 1)[0]) for idx in range(len(chunked_docs))] + [query_vector]\n",
    "\n",
    "# Fit the data (the index of transformed data corresponds to the index of the original data)\n",
    "documents_projected = embedding_projector.fit_transform(np.array(embeddings_2d), init=\"pca\")"
   ]
  },
  {
   "cell_type": "code",
   "execution_count": null,
   "metadata": {},
   "outputs": [],
   "source": [
    "import pandas as pd\n",
    "\n",
    "df = pd.DataFrame.from_dict(\n",
    "    [\n",
    "        {\n",
    "            \"x\": documents_projected[i, 0],\n",
    "            \"y\": documents_projected[i, 1],\n",
    "            \"source\": chunked_docs[i].metadata[\"source\"].split(\"ko/\")[-1],\n",
    "            \"extract\": chunked_docs[i].page_content[:100] + \"...\",\n",
    "            \"symbol\": \"circle\",\n",
    "            \"size_col\": 4,\n",
    "        }\n",
    "        for i in range(len(chunked_docs))\n",
    "    ]\n",
    "    + [\n",
    "        {\n",
    "            \"x\": documents_projected[-1, 0],\n",
    "            \"y\": documents_projected[-1, 1],\n",
    "            \"source\": \"User query\",\n",
    "            \"extract\": user_query,\n",
    "            \"size_col\": 2,\n",
    "            \"symbol\": \"star\",\n",
    "        }\n",
    "    ]\n",
    ")\n",
    "\n",
    "# Visualize the embedding\n",
    "fig = px.scatter(\n",
    "    df,\n",
    "    x=\"x\",\n",
    "    y=\"y\",\n",
    "    color=\"source\",\n",
    "    hover_data=\"extract\",\n",
    "    size=\"size_col\",\n",
    "    symbol=\"symbol\",\n",
    "    color_discrete_map={\"User query\": \"black\"},\n",
    "    width=1100,\n",
    "    height=800,\n",
    ")\n",
    "fig.update_traces(\n",
    "    marker=dict(opacity=1, line=dict(width=0, color=\"DarkSlateGrey\")),\n",
    "    selector=dict(mode=\"markers\"),\n",
    ")\n",
    "fig.update_layout(\n",
    "    legend_title_text=\"<b>Chunk source</b>\",\n",
    "    title=\"<b>2D Projection of Chunk Embeddings via PaCMAP</b>\",\n",
    ")\n",
    "fig.show()"
   ]
  },
  {
   "cell_type": "code",
   "execution_count": 14,
   "metadata": {},
   "outputs": [],
   "source": [
    "user_query = \"진공관 다이오드는 누가 발명했지?\""
   ]
  },
  {
   "cell_type": "code",
   "execution_count": 15,
   "metadata": {},
   "outputs": [
    {
     "data": {
      "text/plain": [
       "[Document(metadata={'source': 'https://news.samsungsemiconductor.com/kr/behind-the-chip-%eb%b0%98%eb%8f%84%ec%b2%b4-%ea%b7%b8-%ec%84%b1%ec%9e%a5%ec%9d%98-%ea%b8%b0%eb%a1%9d-%ea%b3%bc%ea%b1%b0-%ed%98%84%ec%9e%ac-%ea%b7%b8%eb%a6%ac%ea%b3%a0-%eb%af%b8%eb%9e%98/'}, page_content='집적회로(IC)의 탄생과 무어의 법칙: 한동안 트랜지스터가 진공관의 수많은 문제를 해결하긴 했지만, 또 다른 문제는 여전히 남아 있었다. 전자 회로는 트랜지스터, 저항, 다이오드, 캐패시터 등 여러 전자부품을 수작업으로 기판에 납땜해 연결하는 방식으로 만들어졌는데, 이러한 방식은 생산 시간이 매우 오래 걸렸다.'),\n",
       " Document(metadata={'source': 'https://news.samsungsemiconductor.com/kr/behind-the-chip-%eb%b0%98%eb%8f%84%ec%b2%b4-%ea%b7%b8-%ec%84%b1%ec%9e%a5%ec%9d%98-%ea%b8%b0%eb%a1%9d-%ea%b3%bc%ea%b1%b0-%ed%98%84%ec%9e%ac-%ea%b7%b8%eb%a6%ac%ea%b3%a0-%eb%af%b8%eb%9e%98/'}, page_content='한동안 트랜지스터가 진공관의 수많은 문제를 해결하긴 했지만, 또 다른 문제는 여전히 남아 있었다. 전자 회로는 트랜지스터, 저항, 다이오드, 캐패시터 등 여러 전자부품을 수작업으로 기판에 납땜해 연결하는 방식으로 만들어졌는데, 이러한 방식은 생산 시간이 매우 오래 걸렸다.: 본문 바로가기\\n\\n삼성반도체이야기는 더 이상 Internet Explorer를 지원하지 않습니다. 최적의 환경을 위해 다른 웹브라우저 사용을 권장합니다.\\n\\nENG\\n\\n기술 >\\n\\n반도체+\\n\\n[Behind the CHIP] 반도체, 그 성장의 기록: 과거, 현재, 그리고 미래\\n\\n[Behind the CHIP] 반도체, 그 성장의 기록: 과거, 현재, 그리고 미래\\n\\n2024.11.20\\n\\nby.세상의모든지식\\n\\n페이스북\\n\\n트위터\\n\\n카카오톡\\n\\n이메일\\n\\n반도체는 전기가 통하는 도체와 전기가 통하지 않는 부도체, 두 가지의 성질을 임의로 조절할 수 있는 물질로, 전자 신호를 제어하고 처리하는 데 필수적인 역할을 한다. 이러한 특성 덕분에 스마트폰부터 컴퓨터, 자동차 부품까지 반도체는 현대 전자 산업의 핵심이 되며, 오늘날 우리가 사용하는 대부분의 전자 장치의 근간을 이루고 있다.\\n\\n반도체 기술 수준이 국가 경쟁력의 척도가 될 만큼 그 중요성이 급부상하고 있는 요즘, 반도체 기술이 어디서부터 시작해 현재 첨단 반도체 기술로까지 발전할 수 있었는지 반도체의 역사와 현주소, 그리고 앞으로의 전망에 대해 알아보도록 하자.\\n\\n역사의 시작, 최초의 반도체 발견\\n\\n1833년, 영국의 저명한 과학자 ‘마이클 패러데이’는 비금속 물질의 전기 전도성을 연구하다가 황화은(Ag₂S)의 독특한 전기적 특성을 발견했다. 당시 패러데이는 ‘전기와 자기의 관계’에 대한 실험을 진행하고 있었으며, 특히 전기 전도에 대한 실험을 통해 물질의 전기 전도성을 조사하고 있었다.\\n\\n그는 금속과 비금속 재료를 포함한 다양한 물질의 전도성을 비교하며, 전도성 고체에 전류를 흐르게 하는 실험 과정에서 금속은 온도가 올라가면 저항이 증가하는 반면, 황화은과 같은 비금속 재료는 온도가 올라가도 전류가 지속적으로 흐른다는 점을 발견했다.\\n\\n해당 연구는 추후 반도체의 개념으로 발전하게 되는 중요한 발견이 되었으며, 패러데이는 이를 통해 금속과 비금속이 전류를 전도하는 방식에 차이가 있음을 밝히게 되었다. 이 발견은 전기화학 및 전자기학 분야의 발전에 크게 기여했고, 다양한 전기적 현상을 이해하는 데 중요한 기초를 제공했다. 하지만 당시에는 ‘반도체’라는 용어조차 없었고, 반도체의 성질을 실용적으로 활용하기에는 과학적 지식이 부족한 시기였기 때문에 반도체 연구는 이후 40년 동안 이렇다 할 진전을 보이지 못한 채 정체기를 겪게 된다.\\n\\n그러던 1874년, 독일 물리학자 ‘카를 페르디난트 브라운’이 황화납(PbS)과 같은 반도체 물질에 금속 핀을 접촉했을 때, ‘*정류 작용’이 발생한다는 것을 발견하면서 상황은 달라졌다. 즉, 반도체를 활용해 전류의 흐름을 제어할 수 있게 된 것이다. 브라운의 발견은 교류 전류를 직류 전류로 전환하는 기능을 수행하는 ‘점 접촉 다이오드(Point contact diode)’의 개발로 이어졌고, 전자기기에서 특정한 목적을 위해 반도체를 사용할 수 있다는 사실이 처음으로 입증되었다.\\n\\n정류 작용: 전류가 한 방향으로만 흐르는 현상. 전류는 일반적으로 양방향으로 흐르지만, 정류작용을 이용하면 전류를 한 방향으로 흐르게 만들 수 있다.\\n\\n그러나, 반도체 재료의 정제 기술이나 대량 생산 기술이 충분히 발전하지 못한 상황에서 1904년, 영국 물리학자 ‘존 플레밍’이 ‘진공관 다이오드(=2극 진공관)’를 발명했고, 반도체 다이오드보다 진공관 다이오드가 더 안정적인 정류 성능을 제공하면서 초기 전자 산업의 발전에 있어 반도체는 그다지 주목받지 못한 채 진공관에게 잠시 자리를 내주게 되었다.\\n\\n진공관의 한계와 트랜지스터의 탄생\\n\\n1907년, 미국의 발명가 ‘리 디포리스트’는 진공관 다이오드에 금속망(Grid)을 추가해 정류 기능에 증폭 기능까지 갖춘 ‘3극 진공관’을 발명했다. 인류가 전기 신호를 제어할 뿐만 아니라 증폭시킬 수 있는 능력까지 갖추게 만들어 준 것이다. 이에 따라 전력의 생산과 전송, 분배에 중점을 둔 전기 공학에서 벗어나 복잡한 신호 처리와 정보 전송을 다루는 전자 공학이라는 새로운 분야가 탄생했다. 이후 진공관은 장거리 전화 통신, 라디오 방송, 컴퓨터 발전에 있어 핵심적인 역할을 하며 한동안 전자 공학의 획기적인 발전을 주도했다.\\n\\n하지만 진공관은 수많은 공로에도 불구하고 전자 공학의 발전을 가로막는 치명적인 단점이 존재했다. 크기가 크고 무겁다는 점이었다. 이는 전자기기의 소형화에 제약을 주었으며, 높은 전압과 많은 전력이 필요해 에너지 효율이 매우 낮았다. 또한 작동 중 많은 열을 발생시켜 발열 문제를 일으켰을 뿐 아니라 수명이 짧고 유리로 만들어져 깨지기 쉽다는 물리적 취약성도 진공관이 가진 한계점이었다. 이러한 이유로 과학자들은 ‘작고 가벼우면서도 오래 사용할 수 있고, 전기도 적게 쓰면서 튼튼하기까지 한’ 새로운 증폭기를 개발해야만 했는데, 그때 떠오른 것이 바로 반도체였다.\\n\\n시간이 흐르면서 반도체는 물질에 대한 이론적 이해와 더불어 게르마늄과 실리콘 같은 고순도 반도체 재료의 생산 기술이 이전과 비교할 수 없을 정도로 발전해 있었다. 이러한 시대 흐름 속에서 1947년, 벨 연구소의 존 바딘, 월터 브래튼, 윌리엄 쇼클리가 게르마늄을 이용한 트랜지스터(Transistor) 개발에 성공하자 반도체는 전자 공학 발전의 새로운 주인공으로 급부상하게 된다.\\n\\n트랜지스터는 진공관보다 훨씬 작고 가벼워 전자기기의 소형화를 가능하게 했으며, 더 적은 전력으로 작동해 에너지 효율을 높이고 발열 문제도 크게 개선했다. 또한 게르마늄 내구성이 강한 재료적 특성으로 인해 전자 장비의 수명과 신뢰성도 크게 향상시켰다. 이로써 트랜지스터 발명 이후 전자 산업은 진공관 소자에서 반도체 소자로, 대대적으로 전환을 맞이하며 비약적인 발전을 이루게 된다.\\n\\n그러던 1950년대 중반 실리콘 트랜지스터가 개발되었고, 게르마늄 트랜지스터에 비해 온도 변화에 더 안정적이고 대량 생산에 더 유리했기 때문에 게르마늄 트랜지스터의 자리를 빠르게 대체하기 시작했다.\\n\\n집적회로(IC)의 탄생과 무어의 법칙\\n\\n한동안 트랜지스터가 진공관의 수많은 문제를 해결하긴 했지만, 또 다른 문제는 여전히 남아 있었다. 전자 회로는 트랜지스터, 저항, 다이오드, 캐패시터 등 여러 전자부품을 수작업으로 기판에 납땜해 연결하는 방식으로 만들어졌는데, 이러한 방식은 생산 시간이 매우 오래 걸렸다.'),\n",
       " Document(metadata={'source': 'https://news.samsungsemiconductor.com/kr/behind-the-chip-%eb%b0%98%eb%8f%84%ec%b2%b4-%ea%b7%b8-%ec%84%b1%ec%9e%a5%ec%9d%98-%ea%b8%b0%eb%a1%9d-%ea%b3%bc%ea%b1%b0-%ed%98%84%ec%9e%ac-%ea%b7%b8%eb%a6%ac%ea%b3%a0-%eb%af%b8%eb%9e%98/'}, page_content='그러나, 반도체 재료의 정제 기술이나 대량 생산 기술이 충분히 발전하지 못한 상황에서 1904년, 영국 물리학자 ‘존 플레밍’이 ‘진공관 다이오드(=2극 진공관)’를 발명했고, 반도체 다이오드보다 진공관 다이오드가 더 안정적인 정류 성능을 제공하면서 초기 전자 산업의 발전에 있어 반도체는 그다지 주목받지 못한 채 진공관에게 잠시 자리를 내주게 되었다.: 본문 바로가기\\n\\n삼성반도체이야기는 더 이상 Internet Explorer를 지원하지 않습니다. 최적의 환경을 위해 다른 웹브라우저 사용을 권장합니다.\\n\\nENG\\n\\n기술 >\\n\\n반도체+\\n\\n[Behind the CHIP] 반도체, 그 성장의 기록: 과거, 현재, 그리고 미래\\n\\n[Behind the CHIP] 반도체, 그 성장의 기록: 과거, 현재, 그리고 미래\\n\\n2024.11.20\\n\\nby.세상의모든지식\\n\\n페이스북\\n\\n트위터\\n\\n카카오톡\\n\\n이메일\\n\\n반도체는 전기가 통하는 도체와 전기가 통하지 않는 부도체, 두 가지의 성질을 임의로 조절할 수 있는 물질로, 전자 신호를 제어하고 처리하는 데 필수적인 역할을 한다. 이러한 특성 덕분에 스마트폰부터 컴퓨터, 자동차 부품까지 반도체는 현대 전자 산업의 핵심이 되며, 오늘날 우리가 사용하는 대부분의 전자 장치의 근간을 이루고 있다.\\n\\n반도체 기술 수준이 국가 경쟁력의 척도가 될 만큼 그 중요성이 급부상하고 있는 요즘, 반도체 기술이 어디서부터 시작해 현재 첨단 반도체 기술로까지 발전할 수 있었는지 반도체의 역사와 현주소, 그리고 앞으로의 전망에 대해 알아보도록 하자.\\n\\n역사의 시작, 최초의 반도체 발견\\n\\n1833년, 영국의 저명한 과학자 ‘마이클 패러데이’는 비금속 물질의 전기 전도성을 연구하다가 황화은(Ag₂S)의 독특한 전기적 특성을 발견했다. 당시 패러데이는 ‘전기와 자기의 관계’에 대한 실험을 진행하고 있었으며, 특히 전기 전도에 대한 실험을 통해 물질의 전기 전도성을 조사하고 있었다.\\n\\n그는 금속과 비금속 재료를 포함한 다양한 물질의 전도성을 비교하며, 전도성 고체에 전류를 흐르게 하는 실험 과정에서 금속은 온도가 올라가면 저항이 증가하는 반면, 황화은과 같은 비금속 재료는 온도가 올라가도 전류가 지속적으로 흐른다는 점을 발견했다.\\n\\n해당 연구는 추후 반도체의 개념으로 발전하게 되는 중요한 발견이 되었으며, 패러데이는 이를 통해 금속과 비금속이 전류를 전도하는 방식에 차이가 있음을 밝히게 되었다. 이 발견은 전기화학 및 전자기학 분야의 발전에 크게 기여했고, 다양한 전기적 현상을 이해하는 데 중요한 기초를 제공했다. 하지만 당시에는 ‘반도체’라는 용어조차 없었고, 반도체의 성질을 실용적으로 활용하기에는 과학적 지식이 부족한 시기였기 때문에 반도체 연구는 이후 40년 동안 이렇다 할 진전을 보이지 못한 채 정체기를 겪게 된다.\\n\\n그러던 1874년, 독일 물리학자 ‘카를 페르디난트 브라운’이 황화납(PbS)과 같은 반도체 물질에 금속 핀을 접촉했을 때, ‘*정류 작용’이 발생한다는 것을 발견하면서 상황은 달라졌다. 즉, 반도체를 활용해 전류의 흐름을 제어할 수 있게 된 것이다. 브라운의 발견은 교류 전류를 직류 전류로 전환하는 기능을 수행하는 ‘점 접촉 다이오드(Point contact diode)’의 개발로 이어졌고, 전자기기에서 특정한 목적을 위해 반도체를 사용할 수 있다는 사실이 처음으로 입증되었다.\\n\\n정류 작용: 전류가 한 방향으로만 흐르는 현상. 전류는 일반적으로 양방향으로 흐르지만, 정류작용을 이용하면 전류를 한 방향으로 흐르게 만들 수 있다.\\n\\n그러나, 반도체 재료의 정제 기술이나 대량 생산 기술이 충분히 발전하지 못한 상황에서 1904년, 영국 물리학자 ‘존 플레밍’이 ‘진공관 다이오드(=2극 진공관)’를 발명했고, 반도체 다이오드보다 진공관 다이오드가 더 안정적인 정류 성능을 제공하면서 초기 전자 산업의 발전에 있어 반도체는 그다지 주목받지 못한 채 진공관에게 잠시 자리를 내주게 되었다.'),\n",
       " Document(metadata={'source': 'https://news.samsungsemiconductor.com/kr/behind-the-chip-%eb%b0%98%eb%8f%84%ec%b2%b4-%ea%b7%b8-%ec%84%b1%ec%9e%a5%ec%9d%98-%ea%b8%b0%eb%a1%9d-%ea%b3%bc%ea%b1%b0-%ed%98%84%ec%9e%ac-%ea%b7%b8%eb%a6%ac%ea%b3%a0-%eb%af%b8%eb%9e%98/'}, page_content='진공관의 한계와 트랜지스터의 탄생: 1907년, 미국의 발명가 ‘리 디포리스트’는 진공관 다이오드에 금속망(Grid)을 추가해 정류 기능에 증폭 기능까지 갖춘 ‘3극 진공관’을 발명했다. 인류가 전기 신호를 제어할 뿐만 아니라 증폭시킬 수 있는 능력까지 갖추게 만들어 준 것이다. 이에 따라 전력의 생산과 전송, 분배에 중점을 둔 전기 공학에서 벗어나 복잡한 신호 처리와 정보 전송을 다루는 전자 공학이라는 새로운 분야가 탄생했다. 이후 진공관은 장거리 전화 통신, 라디오 방송, 컴퓨터 발전에 있어 핵심적인 역할을 하며 한동안 전자 공학의 획기적인 발전을 주도했다.'),\n",
       " Document(metadata={'source': 'https://news.samsungsemiconductor.com/kr/behind-the-chip-%eb%b0%98%eb%8f%84%ec%b2%b4-%ea%b7%b8-%ec%84%b1%ec%9e%a5%ec%9d%98-%ea%b8%b0%eb%a1%9d-%ea%b3%bc%ea%b1%b0-%ed%98%84%ec%9e%ac-%ea%b7%b8%eb%a6%ac%ea%b3%a0-%eb%af%b8%eb%9e%98/'}, page_content='정류 작용: 전류가 한 방향으로만 흐르는 현상. 전류는 일반적으로 양방향으로 흐르지만, 정류작용을 이용하면 전류를 한 방향으로 흐르게 만들 수 있다.: 그러나, 반도체 재료의 정제 기술이나 대량 생산 기술이 충분히 발전하지 못한 상황에서 1904년, 영국 물리학자 ‘존 플레밍’이 ‘진공관 다이오드(=2극 진공관)’를 발명했고, 반도체 다이오드보다 진공관 다이오드가 더 안정적인 정류 성능을 제공하면서 초기 전자 산업의 발전에 있어 반도체는 그다지 주목받지 못한 채 진공관에게 잠시 자리를 내주게 되었다.')]"
      ]
     },
     "execution_count": 15,
     "metadata": {},
     "output_type": "execute_result"
    }
   ],
   "source": [
    "retriever = vectorstore.as_retriever(search_kwargs={\"k\": 5})\n",
    "basic_docs = retriever.invoke(user_query)\n",
    "basic_docs"
   ]
  },
  {
   "cell_type": "code",
   "execution_count": 23,
   "metadata": {},
   "outputs": [
    {
     "data": {
      "text/plain": [
       "'집적회로(IC)의 탄생과 무어의 법칙: 한동안 트랜지스터가 진공관의 수많은 문제를 해결하긴 했지만, 또 다른 문제는 여전히 남아 있었다. 전자 회로는 트랜지스터, 저항, 다이오드, 캐패시터 등 여러 전자부품을 수작업으로 기판에 납땜해 연결하는 방식으로 만들어졌는데, 이러한 방식은 생산 시간이 매우 오래 걸렸다.'"
      ]
     },
     "execution_count": 23,
     "metadata": {},
     "output_type": "execute_result"
    }
   ],
   "source": [
    "basic_docs[0].page_content"
   ]
  },
  {
   "cell_type": "code",
   "execution_count": 24,
   "metadata": {},
   "outputs": [],
   "source": [
    "YOUR_OPENAI_API_KEY = "
   ]
  },
  {
   "cell_type": "code",
   "execution_count": 48,
   "metadata": {},
   "outputs": [
    {
     "name": "stdout",
     "output_type": "stream",
     "text": [
      "차세대반도체학과는 한국 서울의 중앙대학교 창의ICT공과대학에 설립된 학과로, 반도체 기술의 발전과 새로운 혁신을 다루는 전문 교육 프로그램을 제공합니다. 이 학과는 전자공학 발전에서 중요한 역할을 하는 반도체 기술에 집중하며, 차세대 반도체 소자와 공정, 응용 분야에 관한 깊이 있는 이론과 실습을 학습합니다. 학생들은 최신 기술 트렌드와 함께 실무 경험을 쌓아가며, 반도체 산업에서 경쟁력을 갖출 수 있는 인재로 성장할 수 있는 기회를 제공합니다.\n"
     ]
    }
   ],
   "source": [
    "# 1. 사용자가 물어본 질의\n",
    "user_query = \"차세대반도체학과가 뭐지?\"\n",
    "\n",
    "# 2. VectorStore에서 top-k개 문서 검색\n",
    "retriever = vectorstore.as_retriever(search_kwargs={\"k\": 2})\n",
    "basic_docs = retriever.invoke(user_query)\n",
    "\n",
    "# 3. 문서 내용들을 합쳐서 context로 구성\n",
    "context = \"\\n\".join([doc.page_content for doc in basic_docs])  \n",
    "\n",
    "# 4. 실제로 OpenAI ChatCompletion API를 호출하여 답변 생성\n",
    "from openai import OpenAI\n",
    "\n",
    "client = OpenAI(\n",
    "    api_key=YOUR_OPENAI_API_KEY\n",
    ")\n",
    "\n",
    "# question과 context를 message에 삽입\n",
    "completion = client.chat.completions.create(\n",
    "    model=\"gpt-4o-mini\",  \n",
    "    messages=[\n",
    "        {\n",
    "            \"role\": \"user\",\n",
    "            \"content\": f\"\"\"당신은 반도체와 차세대반도체학과에 대해서 설명하는 Assistant입니다.\n",
    "차세대반도체학과는 한국 서울의 중앙대학교의 창의ICT공과대학에 설립된 학과입니다. \n",
    "다음 맥락에 맞게 질문에 답하세요.\n",
    "\n",
    "맥락: {context}\n",
    "\n",
    "질문: {user_query}\n",
    "\"\"\"\n",
    "        }\n",
    "    ]\n",
    ")\n",
    "\n",
    "# 5. 결과 출력\n",
    "print(completion.choices[0].message.content)"
   ]
  },
  {
   "cell_type": "code",
   "execution_count": null,
   "metadata": {},
   "outputs": [],
   "source": []
  }
 ],
 "metadata": {
  "kernelspec": {
   "display_name": "RAG",
   "language": "python",
   "name": "python3"
  },
  "language_info": {
   "codemirror_mode": {
    "name": "ipython",
    "version": 3
   },
   "file_extension": ".py",
   "mimetype": "text/x-python",
   "name": "python",
   "nbconvert_exporter": "python",
   "pygments_lexer": "ipython3",
   "version": "3.10.16"
  }
 },
 "nbformat": 4,
 "nbformat_minor": 2
}
